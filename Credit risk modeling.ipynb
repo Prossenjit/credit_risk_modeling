{
 "cells": [
  {
   "cell_type": "markdown",
   "id": "59bebe17",
   "metadata": {},
   "source": [
    "# Credit Risk modeling (PD prediction)"
   ]
  },
  {
   "cell_type": "markdown",
   "id": "d772890b",
   "metadata": {},
   "source": [
    "Objective of this project is to calculate probability of default for a borrower and segregate potential defalters from non defaulters of a bank. The data used here is a actual bank's data without sensetive informations. \n",
    "\n",
    "This analysis includes roll rate analysis to select the time period to justify a defaulter, vintage analysis to select performance window, observation period analysis to select observation period.\n",
    "\n",
    "Exploratory data analysis has been performed to explore and get insights from the data which can be used to take necessary actions and valuable informations which can be used in model building.\n",
    "\n",
    "At last, based on the result of explanatory analysis, a machine learning model was build to segregate potential defaulters from non-defaulters based on probability of default score."
   ]
  },
  {
   "cell_type": "code",
   "execution_count": 1,
   "id": "92977085",
   "metadata": {},
   "outputs": [],
   "source": [
    "#Importing libraries\n",
    "import pandas as pd\n",
    "import numpy as np\n",
    "%matplotlib inline\n",
    "import seaborn as sns\n",
    "from sklearn.preprocessing import StandardScaler\n",
    "import matplotlib.pyplot as plt\n",
    "from scipy.stats import chi2_contingency\n",
    "from sklearn.model_selection import cross_val_score\n",
    "from sklearn.model_selection import RepeatedStratifiedKFold\n",
    "from sklearn.tree import DecisionTreeClassifier\n",
    "from imblearn.over_sampling import RandomOverSampler\n",
    "from sklearn.tree import DecisionTreeClassifier\n",
    "from sklearn.model_selection import train_test_split\n",
    "from sklearn import preprocessing\n",
    "from sklearn.metrics import recall_score\n",
    "from sklearn.linear_model import LogisticRegression\n",
    "from sklearn.metrics import confusion_matrix, ConfusionMatrixDisplay, classification_report"
   ]
  },
  {
   "cell_type": "code",
   "execution_count": 2,
   "id": "291c6379",
   "metadata": {},
   "outputs": [],
   "source": [
    "# Importing data sets\n",
    "credit = pd.read_csv(r'D:\\Credit risk modeling\\credit_record.csv')\n",
    "application = pd.read_csv(r'D:\\Credit risk modeling\\application_record.csv')"
   ]
  },
  {
   "cell_type": "markdown",
   "id": "4e09e988",
   "metadata": {},
   "source": [
    "Credit data frame holds the borrower's ID, Months balance and status.\n",
    "\n",
    "ID - Unique ID of a borrower\n",
    "\n",
    "Months balance - Months of the extracted data in backwards. eg. 0 refers current month and -10 referes the month 10 months back.\n",
    "\n",
    "Status - Status of the loan in the specific month. 0: 1-29 days past due 1: 30-59 days past due 2: 60-89 days overdue 3: 90-119 days overdue 4: 120-149 days overdue 5: Overdue or bad debts, write-offs for more than 150 days C: paid off that month X: No loan for the month.\n",
    "\n",
    "\n",
    "Application data holdes borrower's specific informations like gender, income, no of family members and so on. The fields of this data is self explanatory."
   ]
  },
  {
   "cell_type": "code",
   "execution_count": 3,
   "id": "62015cc3",
   "metadata": {},
   "outputs": [
    {
     "data": {
      "text/html": [
       "<div>\n",
       "<style scoped>\n",
       "    .dataframe tbody tr th:only-of-type {\n",
       "        vertical-align: middle;\n",
       "    }\n",
       "\n",
       "    .dataframe tbody tr th {\n",
       "        vertical-align: top;\n",
       "    }\n",
       "\n",
       "    .dataframe thead th {\n",
       "        text-align: right;\n",
       "    }\n",
       "</style>\n",
       "<table border=\"1\" class=\"dataframe\">\n",
       "  <thead>\n",
       "    <tr style=\"text-align: right;\">\n",
       "      <th></th>\n",
       "      <th>ID</th>\n",
       "      <th>CODE_GENDER</th>\n",
       "      <th>FLAG_OWN_CAR</th>\n",
       "      <th>FLAG_OWN_REALTY</th>\n",
       "      <th>CNT_CHILDREN</th>\n",
       "      <th>AMT_INCOME_TOTAL</th>\n",
       "      <th>NAME_INCOME_TYPE</th>\n",
       "      <th>NAME_EDUCATION_TYPE</th>\n",
       "      <th>NAME_FAMILY_STATUS</th>\n",
       "      <th>NAME_HOUSING_TYPE</th>\n",
       "      <th>DAYS_BIRTH</th>\n",
       "      <th>DAYS_EMPLOYED</th>\n",
       "      <th>FLAG_MOBIL</th>\n",
       "      <th>FLAG_WORK_PHONE</th>\n",
       "      <th>FLAG_PHONE</th>\n",
       "      <th>FLAG_EMAIL</th>\n",
       "      <th>OCCUPATION_TYPE</th>\n",
       "      <th>CNT_FAM_MEMBERS</th>\n",
       "    </tr>\n",
       "  </thead>\n",
       "  <tbody>\n",
       "    <tr>\n",
       "      <th>0</th>\n",
       "      <td>5008804</td>\n",
       "      <td>M</td>\n",
       "      <td>Y</td>\n",
       "      <td>Y</td>\n",
       "      <td>0</td>\n",
       "      <td>427500.0</td>\n",
       "      <td>Working</td>\n",
       "      <td>Higher education</td>\n",
       "      <td>Civil marriage</td>\n",
       "      <td>Rented apartment</td>\n",
       "      <td>-12005</td>\n",
       "      <td>-4542</td>\n",
       "      <td>1</td>\n",
       "      <td>1</td>\n",
       "      <td>0</td>\n",
       "      <td>0</td>\n",
       "      <td>NaN</td>\n",
       "      <td>2.0</td>\n",
       "    </tr>\n",
       "    <tr>\n",
       "      <th>1</th>\n",
       "      <td>5008805</td>\n",
       "      <td>M</td>\n",
       "      <td>Y</td>\n",
       "      <td>Y</td>\n",
       "      <td>0</td>\n",
       "      <td>427500.0</td>\n",
       "      <td>Working</td>\n",
       "      <td>Higher education</td>\n",
       "      <td>Civil marriage</td>\n",
       "      <td>Rented apartment</td>\n",
       "      <td>-12005</td>\n",
       "      <td>-4542</td>\n",
       "      <td>1</td>\n",
       "      <td>1</td>\n",
       "      <td>0</td>\n",
       "      <td>0</td>\n",
       "      <td>NaN</td>\n",
       "      <td>2.0</td>\n",
       "    </tr>\n",
       "    <tr>\n",
       "      <th>2</th>\n",
       "      <td>5008806</td>\n",
       "      <td>M</td>\n",
       "      <td>Y</td>\n",
       "      <td>Y</td>\n",
       "      <td>0</td>\n",
       "      <td>112500.0</td>\n",
       "      <td>Working</td>\n",
       "      <td>Secondary / secondary special</td>\n",
       "      <td>Married</td>\n",
       "      <td>House / apartment</td>\n",
       "      <td>-21474</td>\n",
       "      <td>-1134</td>\n",
       "      <td>1</td>\n",
       "      <td>0</td>\n",
       "      <td>0</td>\n",
       "      <td>0</td>\n",
       "      <td>Security staff</td>\n",
       "      <td>2.0</td>\n",
       "    </tr>\n",
       "    <tr>\n",
       "      <th>3</th>\n",
       "      <td>5008808</td>\n",
       "      <td>F</td>\n",
       "      <td>N</td>\n",
       "      <td>Y</td>\n",
       "      <td>0</td>\n",
       "      <td>270000.0</td>\n",
       "      <td>Commercial associate</td>\n",
       "      <td>Secondary / secondary special</td>\n",
       "      <td>Single / not married</td>\n",
       "      <td>House / apartment</td>\n",
       "      <td>-19110</td>\n",
       "      <td>-3051</td>\n",
       "      <td>1</td>\n",
       "      <td>0</td>\n",
       "      <td>1</td>\n",
       "      <td>1</td>\n",
       "      <td>Sales staff</td>\n",
       "      <td>1.0</td>\n",
       "    </tr>\n",
       "    <tr>\n",
       "      <th>4</th>\n",
       "      <td>5008809</td>\n",
       "      <td>F</td>\n",
       "      <td>N</td>\n",
       "      <td>Y</td>\n",
       "      <td>0</td>\n",
       "      <td>270000.0</td>\n",
       "      <td>Commercial associate</td>\n",
       "      <td>Secondary / secondary special</td>\n",
       "      <td>Single / not married</td>\n",
       "      <td>House / apartment</td>\n",
       "      <td>-19110</td>\n",
       "      <td>-3051</td>\n",
       "      <td>1</td>\n",
       "      <td>0</td>\n",
       "      <td>1</td>\n",
       "      <td>1</td>\n",
       "      <td>Sales staff</td>\n",
       "      <td>1.0</td>\n",
       "    </tr>\n",
       "  </tbody>\n",
       "</table>\n",
       "</div>"
      ],
      "text/plain": [
       "        ID CODE_GENDER FLAG_OWN_CAR FLAG_OWN_REALTY  CNT_CHILDREN  \\\n",
       "0  5008804           M            Y               Y             0   \n",
       "1  5008805           M            Y               Y             0   \n",
       "2  5008806           M            Y               Y             0   \n",
       "3  5008808           F            N               Y             0   \n",
       "4  5008809           F            N               Y             0   \n",
       "\n",
       "   AMT_INCOME_TOTAL      NAME_INCOME_TYPE            NAME_EDUCATION_TYPE  \\\n",
       "0          427500.0               Working               Higher education   \n",
       "1          427500.0               Working               Higher education   \n",
       "2          112500.0               Working  Secondary / secondary special   \n",
       "3          270000.0  Commercial associate  Secondary / secondary special   \n",
       "4          270000.0  Commercial associate  Secondary / secondary special   \n",
       "\n",
       "     NAME_FAMILY_STATUS  NAME_HOUSING_TYPE  DAYS_BIRTH  DAYS_EMPLOYED  \\\n",
       "0        Civil marriage   Rented apartment      -12005          -4542   \n",
       "1        Civil marriage   Rented apartment      -12005          -4542   \n",
       "2               Married  House / apartment      -21474          -1134   \n",
       "3  Single / not married  House / apartment      -19110          -3051   \n",
       "4  Single / not married  House / apartment      -19110          -3051   \n",
       "\n",
       "   FLAG_MOBIL  FLAG_WORK_PHONE  FLAG_PHONE  FLAG_EMAIL OCCUPATION_TYPE  \\\n",
       "0           1                1           0           0             NaN   \n",
       "1           1                1           0           0             NaN   \n",
       "2           1                0           0           0  Security staff   \n",
       "3           1                0           1           1     Sales staff   \n",
       "4           1                0           1           1     Sales staff   \n",
       "\n",
       "   CNT_FAM_MEMBERS  \n",
       "0              2.0  \n",
       "1              2.0  \n",
       "2              2.0  \n",
       "3              1.0  \n",
       "4              1.0  "
      ]
     },
     "execution_count": 3,
     "metadata": {},
     "output_type": "execute_result"
    }
   ],
   "source": [
    "# Application dataframe\n",
    "application.head(5)"
   ]
  },
  {
   "cell_type": "code",
   "execution_count": 4,
   "id": "4c7c6ebf",
   "metadata": {},
   "outputs": [
    {
     "data": {
      "text/html": [
       "<div>\n",
       "<style scoped>\n",
       "    .dataframe tbody tr th:only-of-type {\n",
       "        vertical-align: middle;\n",
       "    }\n",
       "\n",
       "    .dataframe tbody tr th {\n",
       "        vertical-align: top;\n",
       "    }\n",
       "\n",
       "    .dataframe thead th {\n",
       "        text-align: right;\n",
       "    }\n",
       "</style>\n",
       "<table border=\"1\" class=\"dataframe\">\n",
       "  <thead>\n",
       "    <tr style=\"text-align: right;\">\n",
       "      <th></th>\n",
       "      <th>ID</th>\n",
       "      <th>MONTHS_BALANCE</th>\n",
       "      <th>STATUS</th>\n",
       "    </tr>\n",
       "  </thead>\n",
       "  <tbody>\n",
       "    <tr>\n",
       "      <th>0</th>\n",
       "      <td>5001711</td>\n",
       "      <td>0</td>\n",
       "      <td>X</td>\n",
       "    </tr>\n",
       "    <tr>\n",
       "      <th>1</th>\n",
       "      <td>5001711</td>\n",
       "      <td>-1</td>\n",
       "      <td>0</td>\n",
       "    </tr>\n",
       "    <tr>\n",
       "      <th>2</th>\n",
       "      <td>5001711</td>\n",
       "      <td>-2</td>\n",
       "      <td>0</td>\n",
       "    </tr>\n",
       "    <tr>\n",
       "      <th>3</th>\n",
       "      <td>5001711</td>\n",
       "      <td>-3</td>\n",
       "      <td>0</td>\n",
       "    </tr>\n",
       "    <tr>\n",
       "      <th>4</th>\n",
       "      <td>5001712</td>\n",
       "      <td>0</td>\n",
       "      <td>C</td>\n",
       "    </tr>\n",
       "  </tbody>\n",
       "</table>\n",
       "</div>"
      ],
      "text/plain": [
       "        ID  MONTHS_BALANCE STATUS\n",
       "0  5001711               0      X\n",
       "1  5001711              -1      0\n",
       "2  5001711              -2      0\n",
       "3  5001711              -3      0\n",
       "4  5001712               0      C"
      ]
     },
     "execution_count": 4,
     "metadata": {},
     "output_type": "execute_result"
    }
   ],
   "source": [
    "# Credit dataframe\n",
    "credit.head(5)"
   ]
  },
  {
   "cell_type": "code",
   "execution_count": 5,
   "id": "5770c371",
   "metadata": {},
   "outputs": [],
   "source": [
    "# Data cleaning\n",
    "groupId = credit.groupby('ID').agg(start_month=('MONTHS_BALANCE', 'min'), end_month=('MONTHS_BALANCE', 'max'))\n",
    "groupId.reset_index(inplace = True)\n",
    "\n",
    "# Creating a column for Month on book\n",
    "credit = credit.merge(groupId, on = 'ID', how = 'left')\n",
    "credit['MOB'] = credit['MONTHS_BALANCE'] - credit['start_month']\n",
    "\n",
    "#Creating observe window\n",
    "credit['observe_window'] = credit['end_month'] - credit['start_month']\n",
    "credit.sort_values(by = ['ID', 'MONTHS_BALANCE'], inplace = True, ignore_index = True)\n",
    "\n",
    "# Deleting rows where Month on book is contradicting with Status of the borrower\n",
    "credit.drop(credit[(credit['MOB'] < 1) & (credit['STATUS'] == '1')].index, axis = 0, inplace = True)\n",
    "credit.drop(credit[(credit['MOB'] < 2) & (credit['STATUS'] == '2')].index, axis = 0, inplace = True)\n",
    "credit.drop(credit[(credit['MOB'] < 3) & (credit['STATUS'] == '3')].index, axis = 0, inplace = True)\n",
    "credit.drop(credit[(credit['MOB'] < 4) & (credit['STATUS'] == '4')].index, axis = 0, inplace = True)\n",
    "credit.drop(credit[(credit['MOB'] < 5) & (credit['STATUS'] == '5')].index, axis = 0, inplace = True)"
   ]
  },
  {
   "cell_type": "code",
   "execution_count": 6,
   "id": "ff4c89ec",
   "metadata": {},
   "outputs": [
    {
     "data": {
      "text/html": [
       "<div>\n",
       "<style scoped>\n",
       "    .dataframe tbody tr th:only-of-type {\n",
       "        vertical-align: middle;\n",
       "    }\n",
       "\n",
       "    .dataframe tbody tr th {\n",
       "        vertical-align: top;\n",
       "    }\n",
       "\n",
       "    .dataframe thead th {\n",
       "        text-align: right;\n",
       "    }\n",
       "</style>\n",
       "<table border=\"1\" class=\"dataframe\">\n",
       "  <thead>\n",
       "    <tr style=\"text-align: right;\">\n",
       "      <th></th>\n",
       "      <th>ID</th>\n",
       "      <th>MONTHS_BALANCE</th>\n",
       "      <th>STATUS</th>\n",
       "      <th>start_month</th>\n",
       "      <th>end_month</th>\n",
       "      <th>MOB</th>\n",
       "      <th>observe_window</th>\n",
       "    </tr>\n",
       "  </thead>\n",
       "  <tbody>\n",
       "    <tr>\n",
       "      <th>0</th>\n",
       "      <td>5001711</td>\n",
       "      <td>-3</td>\n",
       "      <td>0</td>\n",
       "      <td>-3</td>\n",
       "      <td>0</td>\n",
       "      <td>0</td>\n",
       "      <td>3</td>\n",
       "    </tr>\n",
       "    <tr>\n",
       "      <th>1</th>\n",
       "      <td>5001711</td>\n",
       "      <td>-2</td>\n",
       "      <td>0</td>\n",
       "      <td>-3</td>\n",
       "      <td>0</td>\n",
       "      <td>1</td>\n",
       "      <td>3</td>\n",
       "    </tr>\n",
       "    <tr>\n",
       "      <th>2</th>\n",
       "      <td>5001711</td>\n",
       "      <td>-1</td>\n",
       "      <td>0</td>\n",
       "      <td>-3</td>\n",
       "      <td>0</td>\n",
       "      <td>2</td>\n",
       "      <td>3</td>\n",
       "    </tr>\n",
       "    <tr>\n",
       "      <th>3</th>\n",
       "      <td>5001711</td>\n",
       "      <td>0</td>\n",
       "      <td>X</td>\n",
       "      <td>-3</td>\n",
       "      <td>0</td>\n",
       "      <td>3</td>\n",
       "      <td>3</td>\n",
       "    </tr>\n",
       "    <tr>\n",
       "      <th>4</th>\n",
       "      <td>5001712</td>\n",
       "      <td>-18</td>\n",
       "      <td>0</td>\n",
       "      <td>-18</td>\n",
       "      <td>0</td>\n",
       "      <td>0</td>\n",
       "      <td>18</td>\n",
       "    </tr>\n",
       "  </tbody>\n",
       "</table>\n",
       "</div>"
      ],
      "text/plain": [
       "        ID  MONTHS_BALANCE STATUS  start_month  end_month  MOB  observe_window\n",
       "0  5001711              -3      0           -3          0    0               3\n",
       "1  5001711              -2      0           -3          0    1               3\n",
       "2  5001711              -1      0           -3          0    2               3\n",
       "3  5001711               0      X           -3          0    3               3\n",
       "4  5001712             -18      0          -18          0    0              18"
      ]
     },
     "execution_count": 6,
     "metadata": {},
     "output_type": "execute_result"
    }
   ],
   "source": [
    "# Credit data after cleaning\n",
    "credit.head()"
   ]
  },
  {
   "cell_type": "code",
   "execution_count": 7,
   "id": "bf7f41f8",
   "metadata": {},
   "outputs": [
    {
     "data": {
      "text/html": [
       "<div>\n",
       "<style scoped>\n",
       "    .dataframe tbody tr th:only-of-type {\n",
       "        vertical-align: middle;\n",
       "    }\n",
       "\n",
       "    .dataframe tbody tr th {\n",
       "        vertical-align: top;\n",
       "    }\n",
       "\n",
       "    .dataframe thead th {\n",
       "        text-align: right;\n",
       "    }\n",
       "</style>\n",
       "<table border=\"1\" class=\"dataframe\">\n",
       "  <thead>\n",
       "    <tr style=\"text-align: right;\">\n",
       "      <th></th>\n",
       "      <th>0</th>\n",
       "      <th>1</th>\n",
       "      <th>2</th>\n",
       "      <th>3</th>\n",
       "      <th>5</th>\n",
       "    </tr>\n",
       "  </thead>\n",
       "  <tbody>\n",
       "    <tr>\n",
       "      <th>0</th>\n",
       "      <td>0.680130</td>\n",
       "      <td>0.016942</td>\n",
       "      <td>0.001220</td>\n",
       "      <td>0.000542</td>\n",
       "      <td>0.000542</td>\n",
       "    </tr>\n",
       "    <tr>\n",
       "      <th>1</th>\n",
       "      <td>0.346154</td>\n",
       "      <td>0.115385</td>\n",
       "      <td>0.009615</td>\n",
       "      <td>0.000000</td>\n",
       "      <td>0.044872</td>\n",
       "    </tr>\n",
       "    <tr>\n",
       "      <th>2</th>\n",
       "      <td>0.371429</td>\n",
       "      <td>0.057143</td>\n",
       "      <td>0.000000</td>\n",
       "      <td>0.000000</td>\n",
       "      <td>0.057143</td>\n",
       "    </tr>\n",
       "    <tr>\n",
       "      <th>3</th>\n",
       "      <td>0.172414</td>\n",
       "      <td>0.000000</td>\n",
       "      <td>0.000000</td>\n",
       "      <td>0.000000</td>\n",
       "      <td>0.448276</td>\n",
       "    </tr>\n",
       "    <tr>\n",
       "      <th>4</th>\n",
       "      <td>0.285714</td>\n",
       "      <td>0.000000</td>\n",
       "      <td>0.000000</td>\n",
       "      <td>0.000000</td>\n",
       "      <td>0.571429</td>\n",
       "    </tr>\n",
       "    <tr>\n",
       "      <th>5</th>\n",
       "      <td>0.023810</td>\n",
       "      <td>0.000000</td>\n",
       "      <td>0.000000</td>\n",
       "      <td>0.000000</td>\n",
       "      <td>0.595238</td>\n",
       "    </tr>\n",
       "  </tbody>\n",
       "</table>\n",
       "</div>"
      ],
      "text/plain": [
       "          0         1         2         3         5\n",
       "0  0.680130  0.016942  0.001220  0.000542  0.000542\n",
       "1  0.346154  0.115385  0.009615  0.000000  0.044872\n",
       "2  0.371429  0.057143  0.000000  0.000000  0.057143\n",
       "3  0.172414  0.000000  0.000000  0.000000  0.448276\n",
       "4  0.285714  0.000000  0.000000  0.000000  0.571429\n",
       "5  0.023810  0.000000  0.000000  0.000000  0.595238"
      ]
     },
     "execution_count": 7,
     "metadata": {},
     "output_type": "execute_result"
    }
   ],
   "source": [
    "# Roll rate analysis\n",
    "MOBID = credit[(credit['MOB'] == 12) & (credit['observe_window'] >= 18)][['ID', 'STATUS']].groupby(['STATUS']).nunique()\n",
    "MOBID.reset_index(inplace = True)\n",
    "\n",
    "rr = pd.DataFrame()\n",
    "ls = []\n",
    "for status in credit['STATUS'].unique():\n",
    "    sers = credit[((credit['MOB'] == 18) & (credit['ID'].isin(credit[(credit['MOB'] == 12) &(credit['observe_window'] >= 18) & (credit['STATUS'] == status)]['ID'])))][['ID', 'STATUS']].groupby(['STATUS']).nunique()\n",
    "    ls.append(status)\n",
    "    rr = pd.concat([rr, sers], axis = 1)\n",
    "    rr.columns = ls\n",
    "    \n",
    "\n",
    "rr = rr.T\n",
    "rr.fillna(0, inplace = True)\n",
    "rr.drop(['C', 'X'], axis = 0, inplace = True)\n",
    "rr.drop(['C', 'X'], axis = 1, inplace = True)\n",
    "rr.reset_index(inplace = True)\n",
    "rr = rr.rename(columns = {'index' : 'STATUS'})\n",
    "\n",
    "rr = rr.merge(MOBID, on = 'STATUS', how = 'left')\n",
    "rr.drop('STATUS', axis = 1, inplace = True)\n",
    "rr.iloc[:, :] = rr.iloc[:, :].apply(lambda x: x/x['ID'], axis = 1)\n",
    "rr.drop('ID', axis = 1, inplace = True)\n",
    "rr.fillna(0, inplace = True)\n",
    "rr"
   ]
  },
  {
   "cell_type": "markdown",
   "id": "c1dd1581",
   "metadata": {},
   "source": [
    "We can see from the above table that probability of being defaulter is more after 90 DPD. We should select 90 DPD to justify a defaulter"
   ]
  },
  {
   "cell_type": "code",
   "execution_count": 8,
   "id": "33cf77a5",
   "metadata": {},
   "outputs": [],
   "source": [
    "# Creating columns to tag status of the loan\n",
    "credit['atleast_1-29DPD'] = np.where((credit['STATUS'] == '0') | (credit['STATUS'] == '1') |\n",
    "                              (credit['STATUS'] == '2') | (credit['STATUS'] == '3') | \n",
    "                            (credit['STATUS'] == '4') | (credit['STATUS'] == '5'), 1, 0) # 1 for atleast 1-29 DPD, else 0\n",
    "\n",
    "credit['atleast_30-59DPD'] = np.where((credit['STATUS'] == '1') | (credit['STATUS'] == '2') | (credit['STATUS'] == '3') | \n",
    "                            (credit['STATUS'] == '4') | (credit['STATUS'] == '5'), 1, 0) # 1 for atleast 30-59 days DPD, else 0\n",
    "\n",
    "credit['atleast_60-89DPD'] = np.where((credit['STATUS'] == '2') | (credit['STATUS'] == '3') | \n",
    "                            (credit['STATUS'] == '4') | (credit['STATUS'] == '5'), 1, 0) # 1 for atleast 60-89 days DPD, else 0\n",
    "\n",
    "credit['atleast_90-119DPD'] = np.where((credit['STATUS'] == '3') | \n",
    "                            (credit['STATUS'] == '4') | (credit['STATUS'] == '5'), 1, 0) # 1 for atleast 90-119 days DPD, else 0\n",
    "\n",
    "credit['atleast_120-149DPD'] = np.where((credit['STATUS'] == '4') | (credit['STATUS'] == '5'), 1, 0) # 1 for atleast 120-149 days DPD, else 0\n",
    "\n",
    "credit['more_than_150DPD'] = np.where((credit['STATUS'] == '5'), 1, 0) # 1 for overdue or bad debts, write-offs for more than 150 days, else 0\n",
    "\n",
    "# Deleting those IDs opened loan account less than 12 months\n",
    "credit = credit[credit['observe_window'] > 12]"
   ]
  },
  {
   "cell_type": "code",
   "execution_count": 9,
   "id": "19e53ba9",
   "metadata": {},
   "outputs": [
    {
     "data": {
      "image/png": "[encoded data removed]",
      "text/plain": [
       "<Figure size 720x720 with 1 Axes>"
      ]
     },
     "metadata": {
      "needs_background": "light"
     },
     "output_type": "display_data"
    }
   ],
   "source": [
    "# Vintage analysis to select performance window\n",
    "vintage = pd.pivot_table(credit[credit['atleast_90-119DPD'] == 1], index = 'start_month', columns = 'MOB', values = 'ID', aggfunc = lambda x: len(x.unique())).fillna(0).cumsum(axis = 1)\n",
    "vintage.reset_index(inplace = True)\n",
    "\n",
    "start_monthGroup = credit[['start_month', 'ID']].groupby('start_month').nunique()\n",
    "start_monthGroup.reset_index(inplace = True)\n",
    "\n",
    "vintage = vintage.merge(start_monthGroup, on = 'start_month', how = 'left')\n",
    "vintage.iloc[:, 1:] = vintage.iloc[:, 1:].apply(lambda x: x/x['ID'], axis = 1)\n",
    "\n",
    "vintage.drop('ID', axis = 1, inplace = True)\n",
    "vintage.T.drop('start_month', axis = 0).plot(legend = False, grid = True, title = 'Vintage diagram of bad borrowers (90 DPD)', figsize = (10, 10))\n",
    "plt.xlabel('Months on book')\n",
    "plt.ylabel('Cumulative %age of bad borrowers (90 DPD)')\n",
    "plt.show()"
   ]
  },
  {
   "cell_type": "markdown",
   "id": "91e7b539",
   "metadata": {},
   "source": [
    "From above chart, we can observe an elbow in 30 months point. That means, maximum defaulter we can cover in 30 months"
   ]
  },
  {
   "cell_type": "code",
   "execution_count": 11,
   "id": "98ef89bd",
   "metadata": {},
   "outputs": [
    {
     "data": {
      "text/plain": [
       "Text(0, 0.5, 'Cumulate %age of bad borrowers')"
      ]
     },
     "execution_count": 11,
     "metadata": {},
     "output_type": "execute_result"
    },
    {
     "data": {
      "image/png": "[encoded data removed]",
      "text/plain": [
       "<Figure size 432x288 with 1 Axes>"
      ]
     },
     "metadata": {
      "needs_background": "light"
     },
     "output_type": "display_data"
    },
    {
     "data": {
      "image/png": "[encoded data removed]",
      "text/plain": [
       "<Figure size 432x288 with 1 Axes>"
      ]
     },
     "metadata": {
      "needs_background": "light"
     },
     "output_type": "display_data"
    }
   ],
   "source": [
    "# Observe window section\n",
    "ls = []\n",
    "for i in np.arange(0, 61, 1):\n",
    "    ls.append(credit[credit['observe_window'] <= i]['ID'].nunique()/ credit['ID'].nunique())\n",
    "\n",
    "pd.Series(ls).plot(grid = True, title = '%age of borrower distribution along with obserrvation window')\n",
    "plt.xlabel('Observe window')\n",
    "plt.ylabel('%age of borrowers')\n",
    "\n",
    "observe = pd.pivot_table(credit[['ID', 'atleast_1-29DPD', 'atleast_30-59DPD',\n",
    "       'atleast_60-89DPD', 'atleast_90-119DPD', 'atleast_120-149DPD',\n",
    "       'more_than_150DPD', 'MOB']], index = 'MOB', \n",
    "               columns = ['atleast_1-29DPD', 'atleast_30-59DPD',\n",
    "       'atleast_60-89DPD', 'atleast_90-119DPD', 'atleast_120-149DPD',\n",
    "       'more_than_150DPD'], values = 'ID', aggfunc = lambda x: len(x.unique())).fillna(0).cumsum(axis = 0)\n",
    "\n",
    "observe.columns = ['status_null', 'atleast_1-29DPD', 'atleast_30-59DPD',\n",
    "       'atleast_60-89DPD', 'atleast_90-119DPD', 'atleast_120-149DPD',\n",
    "       'more_than_150DPD']\n",
    "\n",
    "# observe.reset_index(inplace = True)\n",
    "\n",
    "observe.drop('status_null', inplace = True, axis = 1)\n",
    "\n",
    "observe.apply(lambda x: x/x.max(), axis = 0).plot(grid = True, title = 'Cumulative %age of bad borrowers with Month on book')\n",
    "plt.xlabel('Month on book')\n",
    "plt.ylabel('Cumulate %age of bad borrowers')"
   ]
  },
  {
   "cell_type": "markdown",
   "id": "dad995fe",
   "metadata": {},
   "source": [
    "From the above observe window chart, we can see that almost 80% borrower's data can be covered in 40 months period in 60 months time frame.\n",
    "\n",
    "The second chart is a supporting chart to support 30 months performance window. We can observe, if we treat each loan status separately, then also, in 30 months, we can cover more than 85% of total defaulters."
   ]
  },
  {
   "cell_type": "markdown",
   "id": "f8e0aa89",
   "metadata": {},
   "source": [
    "Final decisions\n",
    "\n",
    "90 DPD logic to tag a borrower a defaulter\n",
    "\n",
    "Observation window = atleast 40 months\n",
    "\n",
    "Performance window = 30 months"
   ]
  },
  {
   "cell_type": "code",
   "execution_count": 12,
   "id": "86de905e",
   "metadata": {},
   "outputs": [],
   "source": [
    "# Tagging borrowers as defaulters and non-defaulters\n",
    "credit.loc[((credit['atleast_90-119DPD'] == 1) & (credit['observe_window'] >= 40) & (credit['MOB'] <= 30)), 'default'] = 1\n",
    "credit['default'].fillna(0, inplace = True)"
   ]
  },
  {
   "cell_type": "code",
   "execution_count": 13,
   "id": "73dab768",
   "metadata": {},
   "outputs": [
    {
     "data": {
      "text/plain": [
       "0.0    924885\n",
       "1.0       773\n",
       "Name: default, dtype: int64"
      ]
     },
     "execution_count": 13,
     "metadata": {},
     "output_type": "execute_result"
    }
   ],
   "source": [
    "# Checking the Defaulters and non-defaulters distributions in the credit data\n",
    "credit['default'].value_counts()"
   ]
  },
  {
   "cell_type": "code",
   "execution_count": 14,
   "id": "dd2a0022",
   "metadata": {},
   "outputs": [],
   "source": [
    "# Tagging borrowers in application data\n",
    "application = application.merge(credit[['ID', 'default']].drop_duplicates(), on = 'ID', how = 'left')\n",
    "application.drop(application[application['default'].isna()].index, axis = 0, inplace = True)"
   ]
  },
  {
   "cell_type": "markdown",
   "id": "26f7f1a5",
   "metadata": {},
   "source": [
    "# ===============Explanatory data analysis (EDA)==============="
   ]
  },
  {
   "cell_type": "code",
   "execution_count": 15,
   "id": "c8929c66",
   "metadata": {},
   "outputs": [
    {
     "data": {
      "text/plain": [
       "0.0    22290\n",
       "1.0      111\n",
       "Name: default, dtype: int64"
      ]
     },
     "execution_count": 15,
     "metadata": {},
     "output_type": "execute_result"
    }
   ],
   "source": [
    "# Checking the Defaulters and non-defaulters distributions in the application data\n",
    "application['default'].value_counts()"
   ]
  },
  {
   "cell_type": "code",
   "execution_count": 16,
   "id": "3a71297d",
   "metadata": {},
   "outputs": [
    {
     "data": {
      "text/html": [
       "<div>\n",
       "<style scoped>\n",
       "    .dataframe tbody tr th:only-of-type {\n",
       "        vertical-align: middle;\n",
       "    }\n",
       "\n",
       "    .dataframe tbody tr th {\n",
       "        vertical-align: top;\n",
       "    }\n",
       "\n",
       "    .dataframe thead th {\n",
       "        text-align: right;\n",
       "    }\n",
       "</style>\n",
       "<table border=\"1\" class=\"dataframe\">\n",
       "  <thead>\n",
       "    <tr style=\"text-align: right;\">\n",
       "      <th></th>\n",
       "      <th>ID</th>\n",
       "      <th>CODE_GENDER</th>\n",
       "      <th>FLAG_OWN_CAR</th>\n",
       "      <th>FLAG_OWN_REALTY</th>\n",
       "      <th>CNT_CHILDREN</th>\n",
       "      <th>AMT_INCOME_TOTAL</th>\n",
       "      <th>NAME_INCOME_TYPE</th>\n",
       "      <th>NAME_EDUCATION_TYPE</th>\n",
       "      <th>NAME_FAMILY_STATUS</th>\n",
       "      <th>NAME_HOUSING_TYPE</th>\n",
       "      <th>DAYS_BIRTH</th>\n",
       "      <th>DAYS_EMPLOYED</th>\n",
       "      <th>FLAG_MOBIL</th>\n",
       "      <th>FLAG_WORK_PHONE</th>\n",
       "      <th>FLAG_PHONE</th>\n",
       "      <th>FLAG_EMAIL</th>\n",
       "      <th>OCCUPATION_TYPE</th>\n",
       "      <th>CNT_FAM_MEMBERS</th>\n",
       "      <th>default</th>\n",
       "    </tr>\n",
       "  </thead>\n",
       "  <tbody>\n",
       "    <tr>\n",
       "      <th>0</th>\n",
       "      <td>5008804</td>\n",
       "      <td>M</td>\n",
       "      <td>Y</td>\n",
       "      <td>Y</td>\n",
       "      <td>0</td>\n",
       "      <td>427500.0</td>\n",
       "      <td>Working</td>\n",
       "      <td>Higher education</td>\n",
       "      <td>Civil marriage</td>\n",
       "      <td>Rented apartment</td>\n",
       "      <td>-12005</td>\n",
       "      <td>-4542</td>\n",
       "      <td>1</td>\n",
       "      <td>1</td>\n",
       "      <td>0</td>\n",
       "      <td>0</td>\n",
       "      <td>NaN</td>\n",
       "      <td>2.0</td>\n",
       "      <td>0.0</td>\n",
       "    </tr>\n",
       "    <tr>\n",
       "      <th>1</th>\n",
       "      <td>5008805</td>\n",
       "      <td>M</td>\n",
       "      <td>Y</td>\n",
       "      <td>Y</td>\n",
       "      <td>0</td>\n",
       "      <td>427500.0</td>\n",
       "      <td>Working</td>\n",
       "      <td>Higher education</td>\n",
       "      <td>Civil marriage</td>\n",
       "      <td>Rented apartment</td>\n",
       "      <td>-12005</td>\n",
       "      <td>-4542</td>\n",
       "      <td>1</td>\n",
       "      <td>1</td>\n",
       "      <td>0</td>\n",
       "      <td>0</td>\n",
       "      <td>NaN</td>\n",
       "      <td>2.0</td>\n",
       "      <td>0.0</td>\n",
       "    </tr>\n",
       "    <tr>\n",
       "      <th>2</th>\n",
       "      <td>5008806</td>\n",
       "      <td>M</td>\n",
       "      <td>Y</td>\n",
       "      <td>Y</td>\n",
       "      <td>0</td>\n",
       "      <td>112500.0</td>\n",
       "      <td>Working</td>\n",
       "      <td>Secondary / secondary special</td>\n",
       "      <td>Married</td>\n",
       "      <td>House / apartment</td>\n",
       "      <td>-21474</td>\n",
       "      <td>-1134</td>\n",
       "      <td>1</td>\n",
       "      <td>0</td>\n",
       "      <td>0</td>\n",
       "      <td>0</td>\n",
       "      <td>Security staff</td>\n",
       "      <td>2.0</td>\n",
       "      <td>0.0</td>\n",
       "    </tr>\n",
       "    <tr>\n",
       "      <th>5</th>\n",
       "      <td>5008810</td>\n",
       "      <td>F</td>\n",
       "      <td>N</td>\n",
       "      <td>Y</td>\n",
       "      <td>0</td>\n",
       "      <td>270000.0</td>\n",
       "      <td>Commercial associate</td>\n",
       "      <td>Secondary / secondary special</td>\n",
       "      <td>Single / not married</td>\n",
       "      <td>House / apartment</td>\n",
       "      <td>-19110</td>\n",
       "      <td>-3051</td>\n",
       "      <td>1</td>\n",
       "      <td>0</td>\n",
       "      <td>1</td>\n",
       "      <td>1</td>\n",
       "      <td>Sales staff</td>\n",
       "      <td>1.0</td>\n",
       "      <td>0.0</td>\n",
       "    </tr>\n",
       "    <tr>\n",
       "      <th>6</th>\n",
       "      <td>5008811</td>\n",
       "      <td>F</td>\n",
       "      <td>N</td>\n",
       "      <td>Y</td>\n",
       "      <td>0</td>\n",
       "      <td>270000.0</td>\n",
       "      <td>Commercial associate</td>\n",
       "      <td>Secondary / secondary special</td>\n",
       "      <td>Single / not married</td>\n",
       "      <td>House / apartment</td>\n",
       "      <td>-19110</td>\n",
       "      <td>-3051</td>\n",
       "      <td>1</td>\n",
       "      <td>0</td>\n",
       "      <td>1</td>\n",
       "      <td>1</td>\n",
       "      <td>Sales staff</td>\n",
       "      <td>1.0</td>\n",
       "      <td>0.0</td>\n",
       "    </tr>\n",
       "  </tbody>\n",
       "</table>\n",
       "</div>"
      ],
      "text/plain": [
       "        ID CODE_GENDER FLAG_OWN_CAR FLAG_OWN_REALTY  CNT_CHILDREN  \\\n",
       "0  5008804           M            Y               Y             0   \n",
       "1  5008805           M            Y               Y             0   \n",
       "2  5008806           M            Y               Y             0   \n",
       "5  5008810           F            N               Y             0   \n",
       "6  5008811           F            N               Y             0   \n",
       "\n",
       "   AMT_INCOME_TOTAL      NAME_INCOME_TYPE            NAME_EDUCATION_TYPE  \\\n",
       "0          427500.0               Working               Higher education   \n",
       "1          427500.0               Working               Higher education   \n",
       "2          112500.0               Working  Secondary / secondary special   \n",
       "5          270000.0  Commercial associate  Secondary / secondary special   \n",
       "6          270000.0  Commercial associate  Secondary / secondary special   \n",
       "\n",
       "     NAME_FAMILY_STATUS  NAME_HOUSING_TYPE  DAYS_BIRTH  DAYS_EMPLOYED  \\\n",
       "0        Civil marriage   Rented apartment      -12005          -4542   \n",
       "1        Civil marriage   Rented apartment      -12005          -4542   \n",
       "2               Married  House / apartment      -21474          -1134   \n",
       "5  Single / not married  House / apartment      -19110          -3051   \n",
       "6  Single / not married  House / apartment      -19110          -3051   \n",
       "\n",
       "   FLAG_MOBIL  FLAG_WORK_PHONE  FLAG_PHONE  FLAG_EMAIL OCCUPATION_TYPE  \\\n",
       "0           1                1           0           0             NaN   \n",
       "1           1                1           0           0             NaN   \n",
       "2           1                0           0           0  Security staff   \n",
       "5           1                0           1           1     Sales staff   \n",
       "6           1                0           1           1     Sales staff   \n",
       "\n",
       "   CNT_FAM_MEMBERS  default  \n",
       "0              2.0      0.0  \n",
       "1              2.0      0.0  \n",
       "2              2.0      0.0  \n",
       "5              1.0      0.0  \n",
       "6              1.0      0.0  "
      ]
     },
     "execution_count": 16,
     "metadata": {},
     "output_type": "execute_result"
    }
   ],
   "source": [
    "# application data first 5 rows\n",
    "application.head(5)"
   ]
  },
  {
   "cell_type": "code",
   "execution_count": 17,
   "id": "3daf9d4c",
   "metadata": {},
   "outputs": [],
   "source": [
    "# Changing data types of few fields\n",
    "application = application.astype(dtype =  {'FLAG_OWN_CAR' : 'object',\n",
    "                                           'FLAG_OWN_REALTY' : 'object',\n",
    "                                           'FLAG_MOBIL' : 'object',\n",
    "                                           'FLAG_WORK_PHONE' : 'object',\n",
    "                                           'FLAG_PHONE' : 'object',\n",
    "                                           'FLAG_EMAIL' : 'object',\n",
    "                                           'default' : 'object'})"
   ]
  },
  {
   "cell_type": "code",
   "execution_count": 18,
   "id": "8740630d",
   "metadata": {},
   "outputs": [],
   "source": [
    "# Deleting rows with less no of family members than no of child which does not make sense\n",
    "application = application[application['CNT_FAM_MEMBERS'] > application['CNT_CHILDREN']]\n",
    "\n",
    "# Tagging positive days employment as 0, (For Pensioners)\n",
    "application.loc[(application['DAYS_EMPLOYED'] >= 0), 'DAYS_EMPLOYED'] = 0"
   ]
  },
  {
   "cell_type": "code",
   "execution_count": 19,
   "id": "3d47dccc",
   "metadata": {},
   "outputs": [
    {
     "data": {
      "text/html": [
       "<div>\n",
       "<style scoped>\n",
       "    .dataframe tbody tr th:only-of-type {\n",
       "        vertical-align: middle;\n",
       "    }\n",
       "\n",
       "    .dataframe tbody tr th {\n",
       "        vertical-align: top;\n",
       "    }\n",
       "\n",
       "    .dataframe thead th {\n",
       "        text-align: right;\n",
       "    }\n",
       "</style>\n",
       "<table border=\"1\" class=\"dataframe\">\n",
       "  <thead>\n",
       "    <tr style=\"text-align: right;\">\n",
       "      <th></th>\n",
       "      <th>ID</th>\n",
       "      <th>CNT_CHILDREN</th>\n",
       "      <th>AMT_INCOME_TOTAL</th>\n",
       "      <th>DAYS_BIRTH</th>\n",
       "      <th>DAYS_EMPLOYED</th>\n",
       "      <th>CNT_FAM_MEMBERS</th>\n",
       "    </tr>\n",
       "  </thead>\n",
       "  <tbody>\n",
       "    <tr>\n",
       "      <th>count</th>\n",
       "      <td>2.239300e+04</td>\n",
       "      <td>22393.000000</td>\n",
       "      <td>2.239300e+04</td>\n",
       "      <td>22393.000000</td>\n",
       "      <td>22393.000000</td>\n",
       "      <td>22393.000000</td>\n",
       "    </tr>\n",
       "    <tr>\n",
       "      <th>mean</th>\n",
       "      <td>5.078915e+06</td>\n",
       "      <td>0.430268</td>\n",
       "      <td>1.893235e+05</td>\n",
       "      <td>-16083.609878</td>\n",
       "      <td>-2315.544367</td>\n",
       "      <td>2.209306</td>\n",
       "    </tr>\n",
       "    <tr>\n",
       "      <th>std</th>\n",
       "      <td>4.198587e+04</td>\n",
       "      <td>0.737143</td>\n",
       "      <td>1.020736e+05</td>\n",
       "      <td>4104.246185</td>\n",
       "      <td>2415.030456</td>\n",
       "      <td>0.902637</td>\n",
       "    </tr>\n",
       "    <tr>\n",
       "      <th>min</th>\n",
       "      <td>5.008804e+06</td>\n",
       "      <td>0.000000</td>\n",
       "      <td>2.700000e+04</td>\n",
       "      <td>-25152.000000</td>\n",
       "      <td>-15713.000000</td>\n",
       "      <td>1.000000</td>\n",
       "    </tr>\n",
       "    <tr>\n",
       "      <th>25%</th>\n",
       "      <td>5.044502e+06</td>\n",
       "      <td>0.000000</td>\n",
       "      <td>1.237500e+05</td>\n",
       "      <td>-19431.000000</td>\n",
       "      <td>-3270.000000</td>\n",
       "      <td>2.000000</td>\n",
       "    </tr>\n",
       "    <tr>\n",
       "      <th>50%</th>\n",
       "      <td>5.078782e+06</td>\n",
       "      <td>0.000000</td>\n",
       "      <td>1.665000e+05</td>\n",
       "      <td>-15670.000000</td>\n",
       "      <td>-1682.000000</td>\n",
       "      <td>2.000000</td>\n",
       "    </tr>\n",
       "    <tr>\n",
       "      <th>75%</th>\n",
       "      <td>5.115695e+06</td>\n",
       "      <td>1.000000</td>\n",
       "      <td>2.250000e+05</td>\n",
       "      <td>-12676.000000</td>\n",
       "      <td>-451.000000</td>\n",
       "      <td>3.000000</td>\n",
       "    </tr>\n",
       "    <tr>\n",
       "      <th>max</th>\n",
       "      <td>5.150487e+06</td>\n",
       "      <td>14.000000</td>\n",
       "      <td>1.575000e+06</td>\n",
       "      <td>-7757.000000</td>\n",
       "      <td>0.000000</td>\n",
       "      <td>15.000000</td>\n",
       "    </tr>\n",
       "  </tbody>\n",
       "</table>\n",
       "</div>"
      ],
      "text/plain": [
       "                 ID  CNT_CHILDREN  AMT_INCOME_TOTAL    DAYS_BIRTH  \\\n",
       "count  2.239300e+04  22393.000000      2.239300e+04  22393.000000   \n",
       "mean   5.078915e+06      0.430268      1.893235e+05 -16083.609878   \n",
       "std    4.198587e+04      0.737143      1.020736e+05   4104.246185   \n",
       "min    5.008804e+06      0.000000      2.700000e+04 -25152.000000   \n",
       "25%    5.044502e+06      0.000000      1.237500e+05 -19431.000000   \n",
       "50%    5.078782e+06      0.000000      1.665000e+05 -15670.000000   \n",
       "75%    5.115695e+06      1.000000      2.250000e+05 -12676.000000   \n",
       "max    5.150487e+06     14.000000      1.575000e+06  -7757.000000   \n",
       "\n",
       "       DAYS_EMPLOYED  CNT_FAM_MEMBERS  \n",
       "count   22393.000000     22393.000000  \n",
       "mean    -2315.544367         2.209306  \n",
       "std      2415.030456         0.902637  \n",
       "min    -15713.000000         1.000000  \n",
       "25%     -3270.000000         2.000000  \n",
       "50%     -1682.000000         2.000000  \n",
       "75%      -451.000000         3.000000  \n",
       "max         0.000000        15.000000  "
      ]
     },
     "execution_count": 19,
     "metadata": {},
     "output_type": "execute_result"
    }
   ],
   "source": [
    "# Description of application data\n",
    "application.describe()"
   ]
  },
  {
   "cell_type": "code",
   "execution_count": 20,
   "id": "01a4aad0",
   "metadata": {},
   "outputs": [
    {
     "data": {
      "text/plain": [
       "ID                        0\n",
       "CODE_GENDER               0\n",
       "FLAG_OWN_CAR              0\n",
       "FLAG_OWN_REALTY           0\n",
       "CNT_CHILDREN              0\n",
       "AMT_INCOME_TOTAL          0\n",
       "NAME_INCOME_TYPE          0\n",
       "NAME_EDUCATION_TYPE       0\n",
       "NAME_FAMILY_STATUS        0\n",
       "NAME_HOUSING_TYPE         0\n",
       "DAYS_BIRTH                0\n",
       "DAYS_EMPLOYED             0\n",
       "FLAG_MOBIL                0\n",
       "FLAG_WORK_PHONE           0\n",
       "FLAG_PHONE                0\n",
       "FLAG_EMAIL                0\n",
       "OCCUPATION_TYPE        6855\n",
       "CNT_FAM_MEMBERS           0\n",
       "default                   0\n",
       "dtype: int64"
      ]
     },
     "execution_count": 20,
     "metadata": {},
     "output_type": "execute_result"
    }
   ],
   "source": [
    "# Checking null values scenarios in application data\n",
    "application.isna().sum()"
   ]
  },
  {
   "cell_type": "code",
   "execution_count": 21,
   "id": "9205fc7d",
   "metadata": {},
   "outputs": [
    {
     "data": {
      "text/plain": [
       "DAYS_BIRTH          -18578.628155\n",
       "DAYS_EMPLOYED        -1365.219256\n",
       "AMT_INCOME_TOTAL    170805.590153\n",
       "CNT_CHILDREN             0.254413\n",
       "CNT_FAM_MEMBERS          2.000875\n",
       "dtype: float64"
      ]
     },
     "execution_count": 21,
     "metadata": {},
     "output_type": "execute_result"
    }
   ],
   "source": [
    "# We have observed Null values in Occupation type, We will assign nearest category to this null category.\n",
    "# We will check the average values of continuous fields and check the nearest possible category from the Occupation type.\n",
    "application[application['OCCUPATION_TYPE'].isna()][['DAYS_BIRTH', 'DAYS_EMPLOYED', 'AMT_INCOME_TOTAL', 'CNT_CHILDREN', 'CNT_FAM_MEMBERS']].mean()"
   ]
  },
  {
   "cell_type": "code",
   "execution_count": 22,
   "id": "73c7ca44",
   "metadata": {},
   "outputs": [
    {
     "data": {
      "text/html": [
       "<div>\n",
       "<style scoped>\n",
       "    .dataframe tbody tr th:only-of-type {\n",
       "        vertical-align: middle;\n",
       "    }\n",
       "\n",
       "    .dataframe tbody tr th {\n",
       "        vertical-align: top;\n",
       "    }\n",
       "\n",
       "    .dataframe thead th {\n",
       "        text-align: right;\n",
       "    }\n",
       "</style>\n",
       "<table border=\"1\" class=\"dataframe\">\n",
       "  <thead>\n",
       "    <tr style=\"text-align: right;\">\n",
       "      <th></th>\n",
       "      <th>AMT_INCOME_TOTAL</th>\n",
       "      <th>CNT_CHILDREN</th>\n",
       "      <th>CNT_FAM_MEMBERS</th>\n",
       "      <th>DAYS_BIRTH</th>\n",
       "      <th>DAYS_EMPLOYED</th>\n",
       "    </tr>\n",
       "    <tr>\n",
       "      <th>OCCUPATION_TYPE</th>\n",
       "      <th></th>\n",
       "      <th></th>\n",
       "      <th></th>\n",
       "      <th></th>\n",
       "      <th></th>\n",
       "    </tr>\n",
       "  </thead>\n",
       "  <tbody>\n",
       "    <tr>\n",
       "      <th>Accountants</th>\n",
       "      <td>209094.535176</td>\n",
       "      <td>0.458543</td>\n",
       "      <td>2.223618</td>\n",
       "      <td>-15381.827889</td>\n",
       "      <td>-2663.255025</td>\n",
       "    </tr>\n",
       "    <tr>\n",
       "      <th>Cleaning staff</th>\n",
       "      <td>147219.230769</td>\n",
       "      <td>0.347692</td>\n",
       "      <td>1.932308</td>\n",
       "      <td>-17933.470769</td>\n",
       "      <td>-2502.920000</td>\n",
       "    </tr>\n",
       "    <tr>\n",
       "      <th>Cooking staff</th>\n",
       "      <td>145275.979112</td>\n",
       "      <td>0.344648</td>\n",
       "      <td>2.156658</td>\n",
       "      <td>-15123.644909</td>\n",
       "      <td>-2382.368146</td>\n",
       "    </tr>\n",
       "    <tr>\n",
       "      <th>Core staff</th>\n",
       "      <td>192381.737040</td>\n",
       "      <td>0.606557</td>\n",
       "      <td>2.388569</td>\n",
       "      <td>-14354.373948</td>\n",
       "      <td>-2994.540541</td>\n",
       "    </tr>\n",
       "    <tr>\n",
       "      <th>Drivers</th>\n",
       "      <td>208955.000000</td>\n",
       "      <td>0.545926</td>\n",
       "      <td>2.425926</td>\n",
       "      <td>-15008.151111</td>\n",
       "      <td>-2034.060741</td>\n",
       "    </tr>\n",
       "    <tr>\n",
       "      <th>HR staff</th>\n",
       "      <td>197315.217391</td>\n",
       "      <td>0.500000</td>\n",
       "      <td>2.043478</td>\n",
       "      <td>-14529.326087</td>\n",
       "      <td>-2060.326087</td>\n",
       "    </tr>\n",
       "    <tr>\n",
       "      <th>High skill tech staff</th>\n",
       "      <td>198766.019417</td>\n",
       "      <td>0.518878</td>\n",
       "      <td>2.311758</td>\n",
       "      <td>-15285.887810</td>\n",
       "      <td>-3266.566343</td>\n",
       "    </tr>\n",
       "    <tr>\n",
       "      <th>IT staff</th>\n",
       "      <td>214707.692308</td>\n",
       "      <td>0.461538</td>\n",
       "      <td>2.179487</td>\n",
       "      <td>-13424.564103</td>\n",
       "      <td>-1777.230769</td>\n",
       "    </tr>\n",
       "    <tr>\n",
       "      <th>Laborers</th>\n",
       "      <td>181508.672328</td>\n",
       "      <td>0.490724</td>\n",
       "      <td>2.277763</td>\n",
       "      <td>-14800.619284</td>\n",
       "      <td>-2800.544813</td>\n",
       "    </tr>\n",
       "    <tr>\n",
       "      <th>Low-skill Laborers</th>\n",
       "      <td>128970.873786</td>\n",
       "      <td>0.466019</td>\n",
       "      <td>2.339806</td>\n",
       "      <td>-15015.427184</td>\n",
       "      <td>-2284.951456</td>\n",
       "    </tr>\n",
       "    <tr>\n",
       "      <th>Managers</th>\n",
       "      <td>284213.075130</td>\n",
       "      <td>0.550259</td>\n",
       "      <td>2.396373</td>\n",
       "      <td>-15368.012953</td>\n",
       "      <td>-2959.065285</td>\n",
       "    </tr>\n",
       "    <tr>\n",
       "      <th>Medicine staff</th>\n",
       "      <td>166914.352480</td>\n",
       "      <td>0.420366</td>\n",
       "      <td>2.195822</td>\n",
       "      <td>-16045.761097</td>\n",
       "      <td>-4363.906005</td>\n",
       "    </tr>\n",
       "    <tr>\n",
       "      <th>Private service staff</th>\n",
       "      <td>210830.769231</td>\n",
       "      <td>0.461538</td>\n",
       "      <td>2.020513</td>\n",
       "      <td>-15533.230769</td>\n",
       "      <td>-3268.169231</td>\n",
       "    </tr>\n",
       "    <tr>\n",
       "      <th>Realty agents</th>\n",
       "      <td>235887.096774</td>\n",
       "      <td>0.483871</td>\n",
       "      <td>2.419355</td>\n",
       "      <td>-16202.645161</td>\n",
       "      <td>-2723.870968</td>\n",
       "    </tr>\n",
       "    <tr>\n",
       "      <th>Sales staff</th>\n",
       "      <td>175656.682819</td>\n",
       "      <td>0.512971</td>\n",
       "      <td>2.295154</td>\n",
       "      <td>-14088.836515</td>\n",
       "      <td>-2031.404797</td>\n",
       "    </tr>\n",
       "    <tr>\n",
       "      <th>Secretaries</th>\n",
       "      <td>166750.000000</td>\n",
       "      <td>0.588889</td>\n",
       "      <td>2.322222</td>\n",
       "      <td>-15890.977778</td>\n",
       "      <td>-2724.788889</td>\n",
       "    </tr>\n",
       "    <tr>\n",
       "      <th>Security staff</th>\n",
       "      <td>175383.707865</td>\n",
       "      <td>0.342697</td>\n",
       "      <td>2.148876</td>\n",
       "      <td>-16961.154494</td>\n",
       "      <td>-1931.070225</td>\n",
       "    </tr>\n",
       "    <tr>\n",
       "      <th>Waiters/barmen staff</th>\n",
       "      <td>157864.864865</td>\n",
       "      <td>0.202703</td>\n",
       "      <td>2.000000</td>\n",
       "      <td>-13450.932432</td>\n",
       "      <td>-1882.945946</td>\n",
       "    </tr>\n",
       "  </tbody>\n",
       "</table>\n",
       "</div>"
      ],
      "text/plain": [
       "                       AMT_INCOME_TOTAL  CNT_CHILDREN  CNT_FAM_MEMBERS  \\\n",
       "OCCUPATION_TYPE                                                          \n",
       "Accountants               209094.535176      0.458543         2.223618   \n",
       "Cleaning staff            147219.230769      0.347692         1.932308   \n",
       "Cooking staff             145275.979112      0.344648         2.156658   \n",
       "Core staff                192381.737040      0.606557         2.388569   \n",
       "Drivers                   208955.000000      0.545926         2.425926   \n",
       "HR staff                  197315.217391      0.500000         2.043478   \n",
       "High skill tech staff     198766.019417      0.518878         2.311758   \n",
       "IT staff                  214707.692308      0.461538         2.179487   \n",
       "Laborers                  181508.672328      0.490724         2.277763   \n",
       "Low-skill Laborers        128970.873786      0.466019         2.339806   \n",
       "Managers                  284213.075130      0.550259         2.396373   \n",
       "Medicine staff            166914.352480      0.420366         2.195822   \n",
       "Private service staff     210830.769231      0.461538         2.020513   \n",
       "Realty agents             235887.096774      0.483871         2.419355   \n",
       "Sales staff               175656.682819      0.512971         2.295154   \n",
       "Secretaries               166750.000000      0.588889         2.322222   \n",
       "Security staff            175383.707865      0.342697         2.148876   \n",
       "Waiters/barmen staff      157864.864865      0.202703         2.000000   \n",
       "\n",
       "                         DAYS_BIRTH  DAYS_EMPLOYED  \n",
       "OCCUPATION_TYPE                                     \n",
       "Accountants           -15381.827889   -2663.255025  \n",
       "Cleaning staff        -17933.470769   -2502.920000  \n",
       "Cooking staff         -15123.644909   -2382.368146  \n",
       "Core staff            -14354.373948   -2994.540541  \n",
       "Drivers               -15008.151111   -2034.060741  \n",
       "HR staff              -14529.326087   -2060.326087  \n",
       "High skill tech staff -15285.887810   -3266.566343  \n",
       "IT staff              -13424.564103   -1777.230769  \n",
       "Laborers              -14800.619284   -2800.544813  \n",
       "Low-skill Laborers    -15015.427184   -2284.951456  \n",
       "Managers              -15368.012953   -2959.065285  \n",
       "Medicine staff        -16045.761097   -4363.906005  \n",
       "Private service staff -15533.230769   -3268.169231  \n",
       "Realty agents         -16202.645161   -2723.870968  \n",
       "Sales staff           -14088.836515   -2031.404797  \n",
       "Secretaries           -15890.977778   -2724.788889  \n",
       "Security staff        -16961.154494   -1931.070225  \n",
       "Waiters/barmen staff  -13450.932432   -1882.945946  "
      ]
     },
     "execution_count": 22,
     "metadata": {},
     "output_type": "execute_result"
    }
   ],
   "source": [
    "# This is the table to find out nearest occupation type for the null occupation type\n",
    "pd.pivot_table(data = application, index = 'OCCUPATION_TYPE', values = ['DAYS_BIRTH', 'DAYS_EMPLOYED', 'AMT_INCOME_TOTAL', 'CNT_CHILDREN', 'CNT_FAM_MEMBERS'], aggfunc = 'mean')"
   ]
  },
  {
   "cell_type": "code",
   "execution_count": 23,
   "id": "6a32d16a",
   "metadata": {},
   "outputs": [],
   "source": [
    "# Occupation null is nearest to Security staff. We will assign this category to these null cases\n",
    "application.loc[application['OCCUPATION_TYPE'].isna(), 'OCCUPATION_TYPE'] = 'Security staff'"
   ]
  },
  {
   "cell_type": "code",
   "execution_count": 24,
   "id": "200ab0b3",
   "metadata": {
    "scrolled": true
   },
   "outputs": [
    {
     "data": {
      "image/png": "[encoded data removed]",
      "text/plain": [
       "<Figure size 432x288 with 1 Axes>"
      ]
     },
     "metadata": {
      "needs_background": "light"
     },
     "output_type": "display_data"
    },
    {
     "data": {
      "image/png": "[encoded data removed]",
      "text/plain": [
       "<Figure size 432x288 with 1 Axes>"
      ]
     },
     "metadata": {
      "needs_background": "light"
     },
     "output_type": "display_data"
    },
    {
     "data": {
      "image/png": "[encoded data removed]",
      "text/plain": [
       "<Figure size 432x288 with 1 Axes>"
      ]
     },
     "metadata": {
      "needs_background": "light"
     },
     "output_type": "display_data"
    },
    {
     "data": {
      "image/png": "[encoded data removed]",
      "text/plain": [
       "<Figure size 432x288 with 1 Axes>"
      ]
     },
     "metadata": {
      "needs_background": "light"
     },
     "output_type": "display_data"
    },
    {
     "data": {
      "image/png": "[encoded data removed]",
      "text/plain": [
       "<Figure size 432x288 with 1 Axes>"
      ]
     },
     "metadata": {
      "needs_background": "light"
     },
     "output_type": "display_data"
    }
   ],
   "source": [
    "# Box plot to check distribution of continuous variables individually\n",
    "for col in application.select_dtypes(exclude = 'object').columns[1:]:\n",
    "    application.boxplot(column = col)\n",
    "    plt.show()"
   ]
  },
  {
   "cell_type": "code",
   "execution_count": 25,
   "id": "19d98f96",
   "metadata": {},
   "outputs": [],
   "source": [
    "# Manually trimming the application data to make the data more clean\n",
    "application = application[application['CNT_CHILDREN'] < 4]\n",
    "application = application[application['CNT_FAM_MEMBERS'] < 6]\n",
    "application = application[application['AMT_INCOME_TOTAL'] < 800000]"
   ]
  },
  {
   "cell_type": "code",
   "execution_count": 26,
   "id": "55a9f20a",
   "metadata": {},
   "outputs": [],
   "source": [
    "# Changing the format of Days_employed and days_birth to make more sense\n",
    "application['DAYS_BIRTH'] = application['DAYS_BIRTH'].apply(lambda x: int(abs(x)/365))\n",
    "application['DAYS_EMPLOYED'] = application['DAYS_EMPLOYED'].apply(lambda x: int(abs(x)/365))"
   ]
  },
  {
   "cell_type": "code",
   "execution_count": 27,
   "id": "d4881c49",
   "metadata": {},
   "outputs": [
    {
     "name": "stdout",
     "output_type": "stream",
     "text": [
      "The minimum age at the starting of employment is:  17\n",
      "The maximum age at the starting of employment is:  63\n"
     ]
    }
   ],
   "source": [
    "# What was the least and maximum age of a borrower when they started working (Exclusing pensioners as their data is not provided properly)\n",
    "# What was the min age of a borrower when they starte working\n",
    "print('The minimum age at the starting of employment is: ', (application[application['DAYS_EMPLOYED'] != 0]['DAYS_BIRTH'] - application[application['DAYS_EMPLOYED'] != 0]['DAYS_EMPLOYED']).min())\n",
    "\n",
    "# What was the max age of a borrower when they starte working\n",
    "print('The maximum age at the starting of employment is: ', (application[application['DAYS_EMPLOYED'] != 0]['DAYS_BIRTH'] - application[application['DAYS_EMPLOYED'] != 0]['DAYS_EMPLOYED']).max())"
   ]
  },
  {
   "cell_type": "code",
   "execution_count": 28,
   "id": "3c65206a",
   "metadata": {
    "scrolled": true
   },
   "outputs": [
    {
     "data": {
      "text/plain": [
       "<seaborn.axisgrid.PairGrid at 0x238dc285820>"
      ]
     },
     "execution_count": 28,
     "metadata": {},
     "output_type": "execute_result"
    },
    {
     "data": {
      "image/png": "[encoded data removed]",
      "text/plain": [
       "<Figure size 1080x1080 with 42 Axes>"
      ]
     },
     "metadata": {
      "needs_background": "light"
     },
     "output_type": "display_data"
    }
   ],
   "source": [
    "# Correlation plot for continuous fields. Adding target variable (default) to check the data distribution of other fields along side of target class\n",
    "sns.pairplot(data = application[['CNT_CHILDREN', 'AMT_INCOME_TOTAL', 'DAYS_BIRTH', 'DAYS_EMPLOYED', 'CNT_FAM_MEMBERS', 'default']])"
   ]
  },
  {
   "cell_type": "markdown",
   "id": "47aa7d4b",
   "metadata": {},
   "source": [
    "# Calculating Odds, Weight of evidence, Information values"
   ]
  },
  {
   "cell_type": "markdown",
   "id": "35449b31",
   "metadata": {},
   "source": [
    "# Gender"
   ]
  },
  {
   "cell_type": "code",
   "execution_count": 29,
   "id": "adc2d7bb",
   "metadata": {},
   "outputs": [
    {
     "data": {
      "text/html": [
       "<div>\n",
       "<style scoped>\n",
       "    .dataframe tbody tr th:only-of-type {\n",
       "        vertical-align: middle;\n",
       "    }\n",
       "\n",
       "    .dataframe tbody tr th {\n",
       "        vertical-align: top;\n",
       "    }\n",
       "\n",
       "    .dataframe thead th {\n",
       "        text-align: right;\n",
       "    }\n",
       "</style>\n",
       "<table border=\"1\" class=\"dataframe\">\n",
       "  <thead>\n",
       "    <tr style=\"text-align: right;\">\n",
       "      <th>default</th>\n",
       "      <th>0.0</th>\n",
       "      <th>1.0</th>\n",
       "      <th>odds</th>\n",
       "      <th>woe</th>\n",
       "      <th>IV</th>\n",
       "    </tr>\n",
       "    <tr>\n",
       "      <th>CODE_GENDER</th>\n",
       "      <th></th>\n",
       "      <th></th>\n",
       "      <th></th>\n",
       "      <th></th>\n",
       "      <th></th>\n",
       "    </tr>\n",
       "  </thead>\n",
       "  <tbody>\n",
       "    <tr>\n",
       "      <th>F</th>\n",
       "      <td>14756</td>\n",
       "      <td>68</td>\n",
       "      <td>0.004608</td>\n",
       "      <td>0.082166</td>\n",
       "      <td>0.004311</td>\n",
       "    </tr>\n",
       "    <tr>\n",
       "      <th>M</th>\n",
       "      <td>7431</td>\n",
       "      <td>43</td>\n",
       "      <td>0.005787</td>\n",
       "      <td>-0.145516</td>\n",
       "      <td>0.007634</td>\n",
       "    </tr>\n",
       "  </tbody>\n",
       "</table>\n",
       "</div>"
      ],
      "text/plain": [
       "default        0.0  1.0      odds       woe        IV\n",
       "CODE_GENDER                                          \n",
       "F            14756   68  0.004608  0.082166  0.004311\n",
       "M             7431   43  0.005787 -0.145516  0.007634"
      ]
     },
     "execution_count": 29,
     "metadata": {},
     "output_type": "execute_result"
    }
   ],
   "source": [
    "# Frequency table of target variable default and Gender with Odds value, weight of evidence and Information value\n",
    "total_non_default, total_default = application['default'].value_counts()[0], application['default'].value_counts()[1]\n",
    "pd.pivot_table(data = application[['CODE_GENDER', 'ID', 'default']], index = 'CODE_GENDER', columns = 'default', values = 'ID',\n",
    "              aggfunc = 'nunique').assign(odds = lambda x : x[1]/x[0]).assign(woe = lambda x : np.log((x[0]/ total_non_default)/ (x[1]/total_default))).assign(IV = lambda x : ((x[0]/ total_non_default) - (x[1]/total_default))*x['woe'])"
   ]
  },
  {
   "cell_type": "code",
   "execution_count": 30,
   "id": "60690919",
   "metadata": {},
   "outputs": [
    {
     "data": {
      "text/plain": [
       "0.011944532992532607"
      ]
     },
     "execution_count": 30,
     "metadata": {},
     "output_type": "execute_result"
    }
   ],
   "source": [
    "# Information value of Gender\n",
    "total_non_default, total_default = application['default'].value_counts()[0], application['default'].value_counts()[1]\n",
    "pd.pivot_table(data = application[['CODE_GENDER', 'ID', 'default']], index = 'CODE_GENDER', columns = 'default', values = 'ID',\n",
    "              aggfunc = 'nunique').assign(odds = lambda x : x[1]/x[0]).assign(woe = lambda x : np.log((x[0]/ total_non_default)/ (x[1]/total_default))).assign(IV = lambda x : ((x[0]/ total_non_default) - (x[1]/total_default))*x['woe'])['IV'].sum()"
   ]
  },
  {
   "cell_type": "markdown",
   "id": "77b25118",
   "metadata": {},
   "source": [
    "The Information value is less than 0.02, We can drop this field from model building"
   ]
  },
  {
   "cell_type": "markdown",
   "id": "b7823901",
   "metadata": {},
   "source": [
    "# FLAG_OWN_CAR"
   ]
  },
  {
   "cell_type": "code",
   "execution_count": 31,
   "id": "aa915104",
   "metadata": {},
   "outputs": [
    {
     "data": {
      "text/html": [
       "<div>\n",
       "<style scoped>\n",
       "    .dataframe tbody tr th:only-of-type {\n",
       "        vertical-align: middle;\n",
       "    }\n",
       "\n",
       "    .dataframe tbody tr th {\n",
       "        vertical-align: top;\n",
       "    }\n",
       "\n",
       "    .dataframe thead th {\n",
       "        text-align: right;\n",
       "    }\n",
       "</style>\n",
       "<table border=\"1\" class=\"dataframe\">\n",
       "  <thead>\n",
       "    <tr style=\"text-align: right;\">\n",
       "      <th>default</th>\n",
       "      <th>0.0</th>\n",
       "      <th>1.0</th>\n",
       "      <th>odds</th>\n",
       "      <th>woe</th>\n",
       "      <th>IV</th>\n",
       "    </tr>\n",
       "    <tr>\n",
       "      <th>FLAG_OWN_CAR</th>\n",
       "      <th></th>\n",
       "      <th></th>\n",
       "      <th></th>\n",
       "      <th></th>\n",
       "      <th></th>\n",
       "    </tr>\n",
       "  </thead>\n",
       "  <tbody>\n",
       "    <tr>\n",
       "      <th>N</th>\n",
       "      <td>13500</td>\n",
       "      <td>69</td>\n",
       "      <td>0.005111</td>\n",
       "      <td>-0.021393</td>\n",
       "      <td>0.000281</td>\n",
       "    </tr>\n",
       "    <tr>\n",
       "      <th>Y</th>\n",
       "      <td>8687</td>\n",
       "      <td>42</td>\n",
       "      <td>0.004835</td>\n",
       "      <td>0.034182</td>\n",
       "      <td>0.000450</td>\n",
       "    </tr>\n",
       "  </tbody>\n",
       "</table>\n",
       "</div>"
      ],
      "text/plain": [
       "default         0.0  1.0      odds       woe        IV\n",
       "FLAG_OWN_CAR                                          \n",
       "N             13500   69  0.005111 -0.021393  0.000281\n",
       "Y              8687   42  0.004835  0.034182  0.000450"
      ]
     },
     "execution_count": 31,
     "metadata": {},
     "output_type": "execute_result"
    }
   ],
   "source": [
    "# Frequency table of target variable default and flag_own_car with Odds value, weight of evidence and Information value\n",
    "total_non_default, total_default = application['default'].value_counts()[0], application['default'].value_counts()[1]\n",
    "pd.pivot_table(data = application[['FLAG_OWN_CAR', 'ID', 'default']], index = 'FLAG_OWN_CAR', columns = 'default', values = 'ID',\n",
    "              aggfunc = 'nunique').assign(odds = lambda x : x[1]/x[0]).assign(woe = lambda x : np.log((x[0]/ total_non_default)/ (x[1]/total_default))).assign(IV = lambda x : ((x[0]/ total_non_default) - (x[1]/total_default))*x['woe'])"
   ]
  },
  {
   "cell_type": "code",
   "execution_count": 32,
   "id": "10a12570",
   "metadata": {},
   "outputs": [
    {
     "data": {
      "text/plain": [
       "0.0007312098041912611"
      ]
     },
     "execution_count": 32,
     "metadata": {},
     "output_type": "execute_result"
    }
   ],
   "source": [
    "# Information value of flag_own_car\n",
    "total_non_default, total_default = application['default'].value_counts()[0], application['default'].value_counts()[1]\n",
    "pd.pivot_table(data = application[['FLAG_OWN_CAR', 'ID', 'default']], index = 'FLAG_OWN_CAR', columns = 'default', values = 'ID',\n",
    "              aggfunc = 'nunique').assign(odds = lambda x : x[1]/x[0]).assign(woe = lambda x : np.log((x[0]/ total_non_default)/ (x[1]/total_default))).assign(IV = lambda x : ((x[0]/ total_non_default) - (x[1]/total_default))*x['woe'])['IV'].sum()"
   ]
  },
  {
   "cell_type": "markdown",
   "id": "018b6d6f",
   "metadata": {},
   "source": [
    "The Information value is less than 0.02, We can drop this field from model building"
   ]
  },
  {
   "cell_type": "markdown",
   "id": "56806be9",
   "metadata": {},
   "source": [
    "# FLAG_OWN_REALTY"
   ]
  },
  {
   "cell_type": "code",
   "execution_count": 33,
   "id": "2c1aa0f6",
   "metadata": {},
   "outputs": [
    {
     "data": {
      "text/html": [
       "<div>\n",
       "<style scoped>\n",
       "    .dataframe tbody tr th:only-of-type {\n",
       "        vertical-align: middle;\n",
       "    }\n",
       "\n",
       "    .dataframe tbody tr th {\n",
       "        vertical-align: top;\n",
       "    }\n",
       "\n",
       "    .dataframe thead th {\n",
       "        text-align: right;\n",
       "    }\n",
       "</style>\n",
       "<table border=\"1\" class=\"dataframe\">\n",
       "  <thead>\n",
       "    <tr style=\"text-align: right;\">\n",
       "      <th>default</th>\n",
       "      <th>0.0</th>\n",
       "      <th>1.0</th>\n",
       "      <th>odds</th>\n",
       "      <th>woe</th>\n",
       "      <th>IV</th>\n",
       "    </tr>\n",
       "    <tr>\n",
       "      <th>FLAG_OWN_REALTY</th>\n",
       "      <th></th>\n",
       "      <th></th>\n",
       "      <th></th>\n",
       "      <th></th>\n",
       "      <th></th>\n",
       "    </tr>\n",
       "  </thead>\n",
       "  <tbody>\n",
       "    <tr>\n",
       "      <th>N</th>\n",
       "      <td>7635</td>\n",
       "      <td>42</td>\n",
       "      <td>0.005501</td>\n",
       "      <td>-0.094903</td>\n",
       "      <td>0.003251</td>\n",
       "    </tr>\n",
       "    <tr>\n",
       "      <th>Y</th>\n",
       "      <td>14552</td>\n",
       "      <td>69</td>\n",
       "      <td>0.004742</td>\n",
       "      <td>0.053646</td>\n",
       "      <td>0.001838</td>\n",
       "    </tr>\n",
       "  </tbody>\n",
       "</table>\n",
       "</div>"
      ],
      "text/plain": [
       "default            0.0  1.0      odds       woe        IV\n",
       "FLAG_OWN_REALTY                                          \n",
       "N                 7635   42  0.005501 -0.094903  0.003251\n",
       "Y                14552   69  0.004742  0.053646  0.001838"
      ]
     },
     "execution_count": 33,
     "metadata": {},
     "output_type": "execute_result"
    }
   ],
   "source": [
    "# Frequency table of target variable default and flag_own_realty with Odds value, weight of evidence and Information value\n",
    "total_non_default, total_default = application['default'].value_counts()[0], application['default'].value_counts()[1]\n",
    "pd.pivot_table(data = application[['FLAG_OWN_REALTY', 'ID', 'default']], index = 'FLAG_OWN_REALTY', columns = 'default', values = 'ID',\n",
    "              aggfunc = 'nunique').assign(odds = lambda x : x[1]/x[0]).assign(woe = lambda x : np.log((x[0]/ total_non_default)/ (x[1]/total_default))).assign(IV = lambda x : ((x[0]/ total_non_default) - (x[1]/total_default))*x['woe'])"
   ]
  },
  {
   "cell_type": "code",
   "execution_count": 34,
   "id": "f0f260db",
   "metadata": {},
   "outputs": [
    {
     "data": {
      "text/plain": [
       "0.005088970695371671"
      ]
     },
     "execution_count": 34,
     "metadata": {},
     "output_type": "execute_result"
    }
   ],
   "source": [
    "# Information value of flag_own_realty\n",
    "total_non_default, total_default = application['default'].value_counts()[0], application['default'].value_counts()[1]\n",
    "pd.pivot_table(data = application[['FLAG_OWN_REALTY', 'ID', 'default']], index = 'FLAG_OWN_REALTY', columns = 'default', values = 'ID',\n",
    "              aggfunc = 'nunique').assign(odds = lambda x : x[1]/x[0]).assign(woe = lambda x : np.log((x[0]/ total_non_default)/ (x[1]/total_default))).assign(IV = lambda x : ((x[0]/ total_non_default) - (x[1]/total_default))*x['woe'])['IV'].sum()"
   ]
  },
  {
   "cell_type": "markdown",
   "id": "333082cd",
   "metadata": {},
   "source": [
    "The Information value is less than 0.02, We can drop this field from model building"
   ]
  },
  {
   "cell_type": "markdown",
   "id": "cae9284f",
   "metadata": {},
   "source": [
    "# Name Income Type"
   ]
  },
  {
   "cell_type": "code",
   "execution_count": 35,
   "id": "39af008a",
   "metadata": {},
   "outputs": [
    {
     "data": {
      "text/html": [
       "<div>\n",
       "<style scoped>\n",
       "    .dataframe tbody tr th:only-of-type {\n",
       "        vertical-align: middle;\n",
       "    }\n",
       "\n",
       "    .dataframe tbody tr th {\n",
       "        vertical-align: top;\n",
       "    }\n",
       "\n",
       "    .dataframe thead th {\n",
       "        text-align: right;\n",
       "    }\n",
       "</style>\n",
       "<table border=\"1\" class=\"dataframe\">\n",
       "  <thead>\n",
       "    <tr style=\"text-align: right;\">\n",
       "      <th>default</th>\n",
       "      <th>0.0</th>\n",
       "      <th>1.0</th>\n",
       "      <th>odds</th>\n",
       "      <th>woe</th>\n",
       "      <th>IV</th>\n",
       "    </tr>\n",
       "    <tr>\n",
       "      <th>NAME_INCOME_TYPE</th>\n",
       "      <th></th>\n",
       "      <th></th>\n",
       "      <th></th>\n",
       "      <th></th>\n",
       "      <th></th>\n",
       "    </tr>\n",
       "  </thead>\n",
       "  <tbody>\n",
       "    <tr>\n",
       "      <th>Commercial associate</th>\n",
       "      <td>5248.0</td>\n",
       "      <td>28.0</td>\n",
       "      <td>0.005335</td>\n",
       "      <td>-0.064334</td>\n",
       "      <td>0.001011</td>\n",
       "    </tr>\n",
       "    <tr>\n",
       "      <th>Pensioner</th>\n",
       "      <td>3596.0</td>\n",
       "      <td>29.0</td>\n",
       "      <td>0.008065</td>\n",
       "      <td>-0.477450</td>\n",
       "      <td>0.047356</td>\n",
       "    </tr>\n",
       "    <tr>\n",
       "      <th>State servant</th>\n",
       "      <td>1887.0</td>\n",
       "      <td>10.0</td>\n",
       "      <td>0.005299</td>\n",
       "      <td>-0.057573</td>\n",
       "      <td>0.000290</td>\n",
       "    </tr>\n",
       "    <tr>\n",
       "      <th>Student</th>\n",
       "      <td>10.0</td>\n",
       "      <td>NaN</td>\n",
       "      <td>NaN</td>\n",
       "      <td>NaN</td>\n",
       "      <td>NaN</td>\n",
       "    </tr>\n",
       "    <tr>\n",
       "      <th>Working</th>\n",
       "      <td>11446.0</td>\n",
       "      <td>44.0</td>\n",
       "      <td>0.003844</td>\n",
       "      <td>0.263474</td>\n",
       "      <td>0.031483</td>\n",
       "    </tr>\n",
       "  </tbody>\n",
       "</table>\n",
       "</div>"
      ],
      "text/plain": [
       "default                   0.0   1.0      odds       woe        IV\n",
       "NAME_INCOME_TYPE                                                 \n",
       "Commercial associate   5248.0  28.0  0.005335 -0.064334  0.001011\n",
       "Pensioner              3596.0  29.0  0.008065 -0.477450  0.047356\n",
       "State servant          1887.0  10.0  0.005299 -0.057573  0.000290\n",
       "Student                  10.0   NaN       NaN       NaN       NaN\n",
       "Working               11446.0  44.0  0.003844  0.263474  0.031483"
      ]
     },
     "execution_count": 35,
     "metadata": {},
     "output_type": "execute_result"
    }
   ],
   "source": [
    "# Frequency table of target variable default and name income type with Odds value, weight of evidence and Information value\n",
    "total_non_default, total_default = application['default'].value_counts()[0], application['default'].value_counts()[1]\n",
    "pd.pivot_table(data = application[['NAME_INCOME_TYPE', 'ID', 'default']], index = 'NAME_INCOME_TYPE', columns = 'default', values = 'ID',\n",
    "              aggfunc = 'nunique').assign(odds = lambda x : x[1]/x[0]).assign(woe = lambda x : np.log((x[0]/ total_non_default)/ (x[1]/total_default))).assign(IV = lambda x : ((x[0]/ total_non_default) - (x[1]/total_default))*x['woe'])"
   ]
  },
  {
   "cell_type": "code",
   "execution_count": 36,
   "id": "47d2670f",
   "metadata": {},
   "outputs": [],
   "source": [
    "# Excluding students from analysis as there is defaulters\n",
    "application = application[application['NAME_INCOME_TYPE'] != 'Student']"
   ]
  },
  {
   "cell_type": "code",
   "execution_count": 37,
   "id": "86465552",
   "metadata": {},
   "outputs": [
    {
     "data": {
      "text/plain": [
       "0.08015713982825275"
      ]
     },
     "execution_count": 37,
     "metadata": {},
     "output_type": "execute_result"
    }
   ],
   "source": [
    "# Information value of name income type\n",
    "total_non_default, total_default = application['default'].value_counts()[0], application['default'].value_counts()[1]\n",
    "pd.pivot_table(data = application[['NAME_INCOME_TYPE', 'ID', 'default']], index = 'NAME_INCOME_TYPE', columns = 'default', values = 'ID',\n",
    "              aggfunc = 'nunique').assign(odds = lambda x : x[1]/x[0]).assign(woe = lambda x : np.log((x[0]/ total_non_default)/ (x[1]/total_default))).assign(IV = lambda x : ((x[0]/ total_non_default) - (x[1]/total_default))*x['woe'])['IV'].sum()"
   ]
  },
  {
   "cell_type": "markdown",
   "id": "5d98d1c0",
   "metadata": {},
   "source": [
    "The Information value is more than 0.02, We can keep this field in model building"
   ]
  },
  {
   "cell_type": "markdown",
   "id": "ae7b7f38",
   "metadata": {},
   "source": [
    "# Occupation type"
   ]
  },
  {
   "cell_type": "code",
   "execution_count": 38,
   "id": "5485cbc8",
   "metadata": {},
   "outputs": [
    {
     "data": {
      "text/html": [
       "<div>\n",
       "<style scoped>\n",
       "    .dataframe tbody tr th:only-of-type {\n",
       "        vertical-align: middle;\n",
       "    }\n",
       "\n",
       "    .dataframe tbody tr th {\n",
       "        vertical-align: top;\n",
       "    }\n",
       "\n",
       "    .dataframe thead th {\n",
       "        text-align: right;\n",
       "    }\n",
       "</style>\n",
       "<table border=\"1\" class=\"dataframe\">\n",
       "  <thead>\n",
       "    <tr style=\"text-align: right;\">\n",
       "      <th>default</th>\n",
       "      <th>0.0</th>\n",
       "      <th>1.0</th>\n",
       "      <th>odds</th>\n",
       "      <th>woe</th>\n",
       "      <th>IV</th>\n",
       "    </tr>\n",
       "    <tr>\n",
       "      <th>OCCUPATION_TYPE</th>\n",
       "      <th></th>\n",
       "      <th></th>\n",
       "      <th></th>\n",
       "      <th></th>\n",
       "      <th></th>\n",
       "    </tr>\n",
       "  </thead>\n",
       "  <tbody>\n",
       "    <tr>\n",
       "      <th>Accountants</th>\n",
       "      <td>791.0</td>\n",
       "      <td>5.0</td>\n",
       "      <td>0.006321</td>\n",
       "      <td>-0.233421</td>\n",
       "      <td>0.002189</td>\n",
       "    </tr>\n",
       "    <tr>\n",
       "      <th>Cleaning staff</th>\n",
       "      <td>322.0</td>\n",
       "      <td>1.0</td>\n",
       "      <td>0.003106</td>\n",
       "      <td>0.477271</td>\n",
       "      <td>0.002630</td>\n",
       "    </tr>\n",
       "    <tr>\n",
       "      <th>Cooking staff</th>\n",
       "      <td>381.0</td>\n",
       "      <td>2.0</td>\n",
       "      <td>0.005249</td>\n",
       "      <td>-0.047629</td>\n",
       "      <td>0.000040</td>\n",
       "    </tr>\n",
       "    <tr>\n",
       "      <th>Core staff</th>\n",
       "      <td>2212.0</td>\n",
       "      <td>15.0</td>\n",
       "      <td>0.006781</td>\n",
       "      <td>-0.303679</td>\n",
       "      <td>0.010748</td>\n",
       "    </tr>\n",
       "    <tr>\n",
       "      <th>Drivers</th>\n",
       "      <td>1340.0</td>\n",
       "      <td>7.0</td>\n",
       "      <td>0.005224</td>\n",
       "      <td>-0.042766</td>\n",
       "      <td>0.000113</td>\n",
       "    </tr>\n",
       "    <tr>\n",
       "      <th>HR staff</th>\n",
       "      <td>46.0</td>\n",
       "      <td>NaN</td>\n",
       "      <td>NaN</td>\n",
       "      <td>NaN</td>\n",
       "      <td>NaN</td>\n",
       "    </tr>\n",
       "    <tr>\n",
       "      <th>High skill tech staff</th>\n",
       "      <td>915.0</td>\n",
       "      <td>5.0</td>\n",
       "      <td>0.005464</td>\n",
       "      <td>-0.087795</td>\n",
       "      <td>0.000332</td>\n",
       "    </tr>\n",
       "    <tr>\n",
       "      <th>IT staff</th>\n",
       "      <td>39.0</td>\n",
       "      <td>NaN</td>\n",
       "      <td>NaN</td>\n",
       "      <td>NaN</td>\n",
       "      <td>NaN</td>\n",
       "    </tr>\n",
       "    <tr>\n",
       "      <th>Laborers</th>\n",
       "      <td>3803.0</td>\n",
       "      <td>18.0</td>\n",
       "      <td>0.004733</td>\n",
       "      <td>0.055893</td>\n",
       "      <td>0.000521</td>\n",
       "    </tr>\n",
       "    <tr>\n",
       "      <th>Low-skill Laborers</th>\n",
       "      <td>102.0</td>\n",
       "      <td>1.0</td>\n",
       "      <td>0.009804</td>\n",
       "      <td>-0.672308</td>\n",
       "      <td>0.002965</td>\n",
       "    </tr>\n",
       "    <tr>\n",
       "      <th>Managers</th>\n",
       "      <td>1892.0</td>\n",
       "      <td>5.0</td>\n",
       "      <td>0.002643</td>\n",
       "      <td>0.638671</td>\n",
       "      <td>0.025718</td>\n",
       "    </tr>\n",
       "    <tr>\n",
       "      <th>Medicine staff</th>\n",
       "      <td>764.0</td>\n",
       "      <td>NaN</td>\n",
       "      <td>NaN</td>\n",
       "      <td>NaN</td>\n",
       "      <td>NaN</td>\n",
       "    </tr>\n",
       "    <tr>\n",
       "      <th>Private service staff</th>\n",
       "      <td>195.0</td>\n",
       "      <td>NaN</td>\n",
       "      <td>NaN</td>\n",
       "      <td>NaN</td>\n",
       "      <td>NaN</td>\n",
       "    </tr>\n",
       "    <tr>\n",
       "      <th>Realty agents</th>\n",
       "      <td>31.0</td>\n",
       "      <td>NaN</td>\n",
       "      <td>NaN</td>\n",
       "      <td>NaN</td>\n",
       "      <td>NaN</td>\n",
       "    </tr>\n",
       "    <tr>\n",
       "      <th>Sales staff</th>\n",
       "      <td>2033.0</td>\n",
       "      <td>9.0</td>\n",
       "      <td>0.004427</td>\n",
       "      <td>0.122762</td>\n",
       "      <td>0.001300</td>\n",
       "    </tr>\n",
       "    <tr>\n",
       "      <th>Secretaries</th>\n",
       "      <td>90.0</td>\n",
       "      <td>NaN</td>\n",
       "      <td>NaN</td>\n",
       "      <td>NaN</td>\n",
       "      <td>NaN</td>\n",
       "    </tr>\n",
       "    <tr>\n",
       "      <th>Security staff</th>\n",
       "      <td>7147.0</td>\n",
       "      <td>43.0</td>\n",
       "      <td>0.006017</td>\n",
       "      <td>-0.184033</td>\n",
       "      <td>0.011984</td>\n",
       "    </tr>\n",
       "    <tr>\n",
       "      <th>Waiters/barmen staff</th>\n",
       "      <td>74.0</td>\n",
       "      <td>NaN</td>\n",
       "      <td>NaN</td>\n",
       "      <td>NaN</td>\n",
       "      <td>NaN</td>\n",
       "    </tr>\n",
       "  </tbody>\n",
       "</table>\n",
       "</div>"
      ],
      "text/plain": [
       "default                   0.0   1.0      odds       woe        IV\n",
       "OCCUPATION_TYPE                                                  \n",
       "Accountants             791.0   5.0  0.006321 -0.233421  0.002189\n",
       "Cleaning staff          322.0   1.0  0.003106  0.477271  0.002630\n",
       "Cooking staff           381.0   2.0  0.005249 -0.047629  0.000040\n",
       "Core staff             2212.0  15.0  0.006781 -0.303679  0.010748\n",
       "Drivers                1340.0   7.0  0.005224 -0.042766  0.000113\n",
       "HR staff                 46.0   NaN       NaN       NaN       NaN\n",
       "High skill tech staff   915.0   5.0  0.005464 -0.087795  0.000332\n",
       "IT staff                 39.0   NaN       NaN       NaN       NaN\n",
       "Laborers               3803.0  18.0  0.004733  0.055893  0.000521\n",
       "Low-skill Laborers      102.0   1.0  0.009804 -0.672308  0.002965\n",
       "Managers               1892.0   5.0  0.002643  0.638671  0.025718\n",
       "Medicine staff          764.0   NaN       NaN       NaN       NaN\n",
       "Private service staff   195.0   NaN       NaN       NaN       NaN\n",
       "Realty agents            31.0   NaN       NaN       NaN       NaN\n",
       "Sales staff            2033.0   9.0  0.004427  0.122762  0.001300\n",
       "Secretaries              90.0   NaN       NaN       NaN       NaN\n",
       "Security staff         7147.0  43.0  0.006017 -0.184033  0.011984\n",
       "Waiters/barmen staff     74.0   NaN       NaN       NaN       NaN"
      ]
     },
     "execution_count": 38,
     "metadata": {},
     "output_type": "execute_result"
    }
   ],
   "source": [
    "# Frequency table of target variable default and occupation type with Odds value, weight of evidence and Information value\n",
    "total_non_default, total_default = application['default'].value_counts()[0], application['default'].value_counts()[1]\n",
    "pd.pivot_table(data = application[['OCCUPATION_TYPE', 'ID', 'default']], index = 'OCCUPATION_TYPE', columns = 'default', values = 'ID',\n",
    "              aggfunc = 'nunique').assign(odds = lambda x : x[1]/x[0]).assign(woe = lambda x : np.log((x[0]/ total_non_default)/ (x[1]/total_default))).assign(IV = lambda x : ((x[0]/ total_non_default) - (x[1]/total_default))*x['woe'])"
   ]
  },
  {
   "cell_type": "code",
   "execution_count": 39,
   "id": "c617d50a",
   "metadata": {},
   "outputs": [],
   "source": [
    "# Deleting few types of Occupation where there is no defaulters\n",
    "application = application[~application['OCCUPATION_TYPE'].isin(['HR staff', 'IT staff', 'Realty agents', 'Secretaries', 'Waiters/barmen staff'])]"
   ]
  },
  {
   "cell_type": "code",
   "execution_count": 40,
   "id": "bf1548a5",
   "metadata": {},
   "outputs": [
    {
     "data": {
      "text/plain": [
       "0.05853971448959082"
      ]
     },
     "execution_count": 40,
     "metadata": {},
     "output_type": "execute_result"
    }
   ],
   "source": [
    "# Information value of occupation type\n",
    "pd.pivot_table(data = application[['OCCUPATION_TYPE', 'ID', 'default']], index = 'OCCUPATION_TYPE', columns = 'default', values = 'ID',\n",
    "              aggfunc = 'nunique').assign(odds = lambda x : x[1]/x[0]).assign(woe = lambda x : np.log((x[0]/ total_non_default)/ (x[1]/total_default))).assign(IV = lambda x : ((x[0]/ total_non_default) - (x[1]/total_default))*x['woe'])['IV'].sum()"
   ]
  },
  {
   "cell_type": "markdown",
   "id": "2848b542",
   "metadata": {},
   "source": [
    "The Information value is more than 0.02, We can keep this field in model building"
   ]
  },
  {
   "cell_type": "markdown",
   "id": "2fff283a",
   "metadata": {},
   "source": [
    "# Name housing type"
   ]
  },
  {
   "cell_type": "code",
   "execution_count": 41,
   "id": "a781a028",
   "metadata": {},
   "outputs": [
    {
     "data": {
      "text/html": [
       "<div>\n",
       "<style scoped>\n",
       "    .dataframe tbody tr th:only-of-type {\n",
       "        vertical-align: middle;\n",
       "    }\n",
       "\n",
       "    .dataframe tbody tr th {\n",
       "        vertical-align: top;\n",
       "    }\n",
       "\n",
       "    .dataframe thead th {\n",
       "        text-align: right;\n",
       "    }\n",
       "</style>\n",
       "<table border=\"1\" class=\"dataframe\">\n",
       "  <thead>\n",
       "    <tr style=\"text-align: right;\">\n",
       "      <th>default</th>\n",
       "      <th>0.0</th>\n",
       "      <th>1.0</th>\n",
       "      <th>odds</th>\n",
       "      <th>woe</th>\n",
       "      <th>IV</th>\n",
       "    </tr>\n",
       "    <tr>\n",
       "      <th>NAME_HOUSING_TYPE</th>\n",
       "      <th></th>\n",
       "      <th></th>\n",
       "      <th></th>\n",
       "      <th></th>\n",
       "      <th></th>\n",
       "    </tr>\n",
       "  </thead>\n",
       "  <tbody>\n",
       "    <tr>\n",
       "      <th>Co-op apartment</th>\n",
       "      <td>96</td>\n",
       "      <td>1</td>\n",
       "      <td>0.010417</td>\n",
       "      <td>-0.720227</td>\n",
       "      <td>0.003331</td>\n",
       "    </tr>\n",
       "    <tr>\n",
       "      <th>House / apartment</th>\n",
       "      <td>19579</td>\n",
       "      <td>93</td>\n",
       "      <td>0.004750</td>\n",
       "      <td>0.065039</td>\n",
       "      <td>0.003662</td>\n",
       "    </tr>\n",
       "    <tr>\n",
       "      <th>Municipal apartment</th>\n",
       "      <td>720</td>\n",
       "      <td>8</td>\n",
       "      <td>0.011111</td>\n",
       "      <td>-0.784765</td>\n",
       "      <td>0.030756</td>\n",
       "    </tr>\n",
       "    <tr>\n",
       "      <th>Office apartment</th>\n",
       "      <td>156</td>\n",
       "      <td>2</td>\n",
       "      <td>0.012821</td>\n",
       "      <td>-0.927866</td>\n",
       "      <td>0.010108</td>\n",
       "    </tr>\n",
       "    <tr>\n",
       "      <th>Rented apartment</th>\n",
       "      <td>322</td>\n",
       "      <td>2</td>\n",
       "      <td>0.006211</td>\n",
       "      <td>-0.203170</td>\n",
       "      <td>0.000673</td>\n",
       "    </tr>\n",
       "    <tr>\n",
       "      <th>With parents</th>\n",
       "      <td>1024</td>\n",
       "      <td>5</td>\n",
       "      <td>0.004883</td>\n",
       "      <td>0.037459</td>\n",
       "      <td>0.000064</td>\n",
       "    </tr>\n",
       "  </tbody>\n",
       "</table>\n",
       "</div>"
      ],
      "text/plain": [
       "default                0.0  1.0      odds       woe        IV\n",
       "NAME_HOUSING_TYPE                                            \n",
       "Co-op apartment         96    1  0.010417 -0.720227  0.003331\n",
       "House / apartment    19579   93  0.004750  0.065039  0.003662\n",
       "Municipal apartment    720    8  0.011111 -0.784765  0.030756\n",
       "Office apartment       156    2  0.012821 -0.927866  0.010108\n",
       "Rented apartment       322    2  0.006211 -0.203170  0.000673\n",
       "With parents          1024    5  0.004883  0.037459  0.000064"
      ]
     },
     "execution_count": 41,
     "metadata": {},
     "output_type": "execute_result"
    }
   ],
   "source": [
    "# Frequency table of target variable default and name housing type with Odds value, weight of evidence and Information value\n",
    "total_non_default, total_default = application['default'].value_counts()[0], application['default'].value_counts()[1]\n",
    "pd.pivot_table(data = application[['NAME_HOUSING_TYPE', 'ID', 'default']], index = 'NAME_HOUSING_TYPE', columns = 'default', values = 'ID',\n",
    "              aggfunc = 'nunique').assign(odds = lambda x : x[1]/x[0]).assign(woe = lambda x : np.log((x[0]/ total_non_default)/ (x[1]/total_default))).assign(IV = lambda x : ((x[0]/ total_non_default) - (x[1]/total_default))*x['woe'])"
   ]
  },
  {
   "cell_type": "code",
   "execution_count": 42,
   "id": "6f5e95bb",
   "metadata": {},
   "outputs": [
    {
     "data": {
      "text/plain": [
       "0.048593828106986134"
      ]
     },
     "execution_count": 42,
     "metadata": {},
     "output_type": "execute_result"
    }
   ],
   "source": [
    "# Information value of new housing type\n",
    "total_non_default, total_default = application['default'].value_counts()[0], application['default'].value_counts()[1]\n",
    "pd.pivot_table(data = application[['NAME_HOUSING_TYPE', 'ID', 'default']], index = 'NAME_HOUSING_TYPE', columns = 'default', values = 'ID',\n",
    "              aggfunc = 'nunique').assign(odds = lambda x : x[1]/x[0]).assign(woe = lambda x : np.log((x[0]/ total_non_default)/ (x[1]/total_default))).assign(IV = lambda x : ((x[0]/ total_non_default) - (x[1]/total_default))*x['woe'])['IV'].sum()"
   ]
  },
  {
   "cell_type": "markdown",
   "id": "28f5b925",
   "metadata": {},
   "source": [
    "The Information value is more than 0.02, We can keep this field in model building"
   ]
  },
  {
   "cell_type": "markdown",
   "id": "79f7de97",
   "metadata": {},
   "source": [
    "# Name education type"
   ]
  },
  {
   "cell_type": "code",
   "execution_count": 43,
   "id": "5e7c464c",
   "metadata": {},
   "outputs": [
    {
     "data": {
      "text/html": [
       "<div>\n",
       "<style scoped>\n",
       "    .dataframe tbody tr th:only-of-type {\n",
       "        vertical-align: middle;\n",
       "    }\n",
       "\n",
       "    .dataframe tbody tr th {\n",
       "        vertical-align: top;\n",
       "    }\n",
       "\n",
       "    .dataframe thead th {\n",
       "        text-align: right;\n",
       "    }\n",
       "</style>\n",
       "<table border=\"1\" class=\"dataframe\">\n",
       "  <thead>\n",
       "    <tr style=\"text-align: right;\">\n",
       "      <th>default</th>\n",
       "      <th>0.0</th>\n",
       "      <th>1.0</th>\n",
       "      <th>odds</th>\n",
       "      <th>woe</th>\n",
       "      <th>IV</th>\n",
       "    </tr>\n",
       "    <tr>\n",
       "      <th>NAME_EDUCATION_TYPE</th>\n",
       "      <th></th>\n",
       "      <th></th>\n",
       "      <th></th>\n",
       "      <th></th>\n",
       "      <th></th>\n",
       "    </tr>\n",
       "  </thead>\n",
       "  <tbody>\n",
       "    <tr>\n",
       "      <th>Academic degree</th>\n",
       "      <td>26.0</td>\n",
       "      <td>NaN</td>\n",
       "      <td>NaN</td>\n",
       "      <td>NaN</td>\n",
       "      <td>NaN</td>\n",
       "    </tr>\n",
       "    <tr>\n",
       "      <th>Higher education</th>\n",
       "      <td>6017.0</td>\n",
       "      <td>39.0</td>\n",
       "      <td>0.006482</td>\n",
       "      <td>-0.245792</td>\n",
       "      <td>0.018819</td>\n",
       "    </tr>\n",
       "    <tr>\n",
       "      <th>Incomplete higher</th>\n",
       "      <td>865.0</td>\n",
       "      <td>8.0</td>\n",
       "      <td>0.009249</td>\n",
       "      <td>-0.601287</td>\n",
       "      <td>0.019583</td>\n",
       "    </tr>\n",
       "    <tr>\n",
       "      <th>Lower secondary</th>\n",
       "      <td>242.0</td>\n",
       "      <td>5.0</td>\n",
       "      <td>0.020661</td>\n",
       "      <td>-1.405075</td>\n",
       "      <td>0.047763</td>\n",
       "    </tr>\n",
       "    <tr>\n",
       "      <th>Secondary / secondary special</th>\n",
       "      <td>14747.0</td>\n",
       "      <td>59.0</td>\n",
       "      <td>0.004001</td>\n",
       "      <td>0.236683</td>\n",
       "      <td>0.033595</td>\n",
       "    </tr>\n",
       "  </tbody>\n",
       "</table>\n",
       "</div>"
      ],
      "text/plain": [
       "default                            0.0   1.0      odds       woe        IV\n",
       "NAME_EDUCATION_TYPE                                                       \n",
       "Academic degree                   26.0   NaN       NaN       NaN       NaN\n",
       "Higher education                6017.0  39.0  0.006482 -0.245792  0.018819\n",
       "Incomplete higher                865.0   8.0  0.009249 -0.601287  0.019583\n",
       "Lower secondary                  242.0   5.0  0.020661 -1.405075  0.047763\n",
       "Secondary / secondary special  14747.0  59.0  0.004001  0.236683  0.033595"
      ]
     },
     "execution_count": 43,
     "metadata": {},
     "output_type": "execute_result"
    }
   ],
   "source": [
    "# Frequency table of target variable default and name education type with Odds value, weight of evidence and Information value\n",
    "total_non_default, total_default = application['default'].value_counts()[0], application['default'].value_counts()[1]\n",
    "pd.pivot_table(data = application[['NAME_EDUCATION_TYPE', 'ID', 'default']], index = 'NAME_EDUCATION_TYPE', columns = 'default', values = 'ID',\n",
    "              aggfunc = 'nunique').assign(odds = lambda x : x[1]/x[0]).assign(woe = lambda x : np.log((x[0]/ total_non_default)/ (x[1]/total_default))).assign(IV = lambda x : ((x[0]/ total_non_default) - (x[1]/total_default))*x['woe'])"
   ]
  },
  {
   "cell_type": "code",
   "execution_count": 44,
   "id": "5cc428f2",
   "metadata": {},
   "outputs": [],
   "source": [
    "# Converting Academic degree to Lower secondary and Incomplete higher to secondary type\n",
    "application['NAME_EDUCATION_TYPE'] = application['NAME_EDUCATION_TYPE'].replace({'Academic degree' : 'Lower secondary', 'Incomplete higher' : 'Secondary / secondary special'})"
   ]
  },
  {
   "cell_type": "code",
   "execution_count": 45,
   "id": "22e6d632",
   "metadata": {},
   "outputs": [
    {
     "data": {
      "text/plain": [
       "0.0797792861853425"
      ]
     },
     "execution_count": 45,
     "metadata": {},
     "output_type": "execute_result"
    }
   ],
   "source": [
    "# Information value of new education type\n",
    "total_non_default, total_default = application['default'].value_counts()[0], application['default'].value_counts()[1]\n",
    "pd.pivot_table(data = application[['NAME_EDUCATION_TYPE', 'ID', 'default']], index = 'NAME_EDUCATION_TYPE', columns = 'default', values = 'ID',\n",
    "              aggfunc = 'nunique').assign(odds = lambda x : x[1]/x[0]).assign(woe = lambda x : np.log((x[0]/ total_non_default)/ (x[1]/total_default))).assign(IV = lambda x : ((x[0]/ total_non_default) - (x[1]/total_default))*x['woe'])['IV'].sum()"
   ]
  },
  {
   "cell_type": "markdown",
   "id": "625def4c",
   "metadata": {},
   "source": [
    "The Information value is more than 0.02, We can keep this field in model building"
   ]
  },
  {
   "cell_type": "markdown",
   "id": "9923c287",
   "metadata": {},
   "source": [
    "# Name family status"
   ]
  },
  {
   "cell_type": "code",
   "execution_count": 47,
   "id": "003f1199",
   "metadata": {},
   "outputs": [
    {
     "data": {
      "text/html": [
       "<div>\n",
       "<style scoped>\n",
       "    .dataframe tbody tr th:only-of-type {\n",
       "        vertical-align: middle;\n",
       "    }\n",
       "\n",
       "    .dataframe tbody tr th {\n",
       "        vertical-align: top;\n",
       "    }\n",
       "\n",
       "    .dataframe thead th {\n",
       "        text-align: right;\n",
       "    }\n",
       "</style>\n",
       "<table border=\"1\" class=\"dataframe\">\n",
       "  <thead>\n",
       "    <tr style=\"text-align: right;\">\n",
       "      <th>default</th>\n",
       "      <th>0.0</th>\n",
       "      <th>1.0</th>\n",
       "      <th>odds</th>\n",
       "      <th>woe</th>\n",
       "      <th>IV</th>\n",
       "    </tr>\n",
       "    <tr>\n",
       "      <th>NAME_FAMILY_STATUS</th>\n",
       "      <th></th>\n",
       "      <th></th>\n",
       "      <th></th>\n",
       "      <th></th>\n",
       "      <th></th>\n",
       "    </tr>\n",
       "  </thead>\n",
       "  <tbody>\n",
       "    <tr>\n",
       "      <th>Civil marriage</th>\n",
       "      <td>1676</td>\n",
       "      <td>5</td>\n",
       "      <td>0.002983</td>\n",
       "      <td>0.530153</td>\n",
       "      <td>0.016697</td>\n",
       "    </tr>\n",
       "    <tr>\n",
       "      <th>Married</th>\n",
       "      <td>15370</td>\n",
       "      <td>70</td>\n",
       "      <td>0.004554</td>\n",
       "      <td>0.107103</td>\n",
       "      <td>0.007636</td>\n",
       "    </tr>\n",
       "    <tr>\n",
       "      <th>Separated</th>\n",
       "      <td>1310</td>\n",
       "      <td>13</td>\n",
       "      <td>0.009924</td>\n",
       "      <td>-0.671742</td>\n",
       "      <td>0.038485</td>\n",
       "    </tr>\n",
       "    <tr>\n",
       "      <th>Single / not married</th>\n",
       "      <td>2715</td>\n",
       "      <td>16</td>\n",
       "      <td>0.005893</td>\n",
       "      <td>-0.150616</td>\n",
       "      <td>0.003036</td>\n",
       "    </tr>\n",
       "    <tr>\n",
       "      <th>Widow</th>\n",
       "      <td>826</td>\n",
       "      <td>7</td>\n",
       "      <td>0.008475</td>\n",
       "      <td>-0.513890</td>\n",
       "      <td>0.013022</td>\n",
       "    </tr>\n",
       "  </tbody>\n",
       "</table>\n",
       "</div>"
      ],
      "text/plain": [
       "default                 0.0  1.0      odds       woe        IV\n",
       "NAME_FAMILY_STATUS                                            \n",
       "Civil marriage         1676    5  0.002983  0.530153  0.016697\n",
       "Married               15370   70  0.004554  0.107103  0.007636\n",
       "Separated              1310   13  0.009924 -0.671742  0.038485\n",
       "Single / not married   2715   16  0.005893 -0.150616  0.003036\n",
       "Widow                   826    7  0.008475 -0.513890  0.013022"
      ]
     },
     "execution_count": 47,
     "metadata": {},
     "output_type": "execute_result"
    }
   ],
   "source": [
    "# Frequency table of target variable default and name family status with Odds value, weight of evidence and Information value\n",
    "total_non_default, total_default = application['default'].value_counts()[0], application['default'].value_counts()[1]\n",
    "pd.pivot_table(data = application[['NAME_FAMILY_STATUS', 'ID', 'default']], index = 'NAME_FAMILY_STATUS', columns = 'default', values = 'ID',\n",
    "              aggfunc = 'nunique').assign(odds = lambda x : x[1]/x[0]).assign(woe = lambda x : np.log((x[0]/ total_non_default)/ (x[1]/total_default))).assign(IV = lambda x : ((x[0]/ total_non_default) - (x[1]/total_default))*x['woe'])"
   ]
  },
  {
   "cell_type": "code",
   "execution_count": 48,
   "id": "62fce0e5",
   "metadata": {},
   "outputs": [
    {
     "data": {
      "text/plain": [
       "0.07887602707281108"
      ]
     },
     "execution_count": 48,
     "metadata": {},
     "output_type": "execute_result"
    }
   ],
   "source": [
    "# Information value of name family status\n",
    "total_non_default, total_default = application['default'].value_counts()[0], application['default'].value_counts()[1]\n",
    "pd.pivot_table(data = application[['NAME_FAMILY_STATUS', 'ID', 'default']], index = 'NAME_FAMILY_STATUS', columns = 'default', values = 'ID',\n",
    "              aggfunc = 'nunique').assign(odds = lambda x : x[1]/x[0]).assign(woe = lambda x : np.log((x[0]/ total_non_default)/ (x[1]/total_default))).assign(IV = lambda x : ((x[0]/ total_non_default) - (x[1]/total_default))*x['woe'])['IV'].sum()"
   ]
  },
  {
   "cell_type": "markdown",
   "id": "317bcd68",
   "metadata": {},
   "source": [
    "The Information value is more than 0.02, We can keep this field in model building"
   ]
  },
  {
   "cell_type": "markdown",
   "id": "82a16462",
   "metadata": {},
   "source": [
    "# Flag Mobile"
   ]
  },
  {
   "cell_type": "code",
   "execution_count": 49,
   "id": "aa676806",
   "metadata": {},
   "outputs": [
    {
     "data": {
      "text/html": [
       "<div>\n",
       "<style scoped>\n",
       "    .dataframe tbody tr th:only-of-type {\n",
       "        vertical-align: middle;\n",
       "    }\n",
       "\n",
       "    .dataframe tbody tr th {\n",
       "        vertical-align: top;\n",
       "    }\n",
       "\n",
       "    .dataframe thead th {\n",
       "        text-align: right;\n",
       "    }\n",
       "</style>\n",
       "<table border=\"1\" class=\"dataframe\">\n",
       "  <thead>\n",
       "    <tr style=\"text-align: right;\">\n",
       "      <th>default</th>\n",
       "      <th>0.0</th>\n",
       "      <th>1.0</th>\n",
       "      <th>odds</th>\n",
       "    </tr>\n",
       "    <tr>\n",
       "      <th>FLAG_MOBIL</th>\n",
       "      <th></th>\n",
       "      <th></th>\n",
       "      <th></th>\n",
       "    </tr>\n",
       "  </thead>\n",
       "  <tbody>\n",
       "    <tr>\n",
       "      <th>1</th>\n",
       "      <td>21897</td>\n",
       "      <td>111</td>\n",
       "      <td>0.005069</td>\n",
       "    </tr>\n",
       "  </tbody>\n",
       "</table>\n",
       "</div>"
      ],
      "text/plain": [
       "default       0.0  1.0      odds\n",
       "FLAG_MOBIL                      \n",
       "1           21897  111  0.005069"
      ]
     },
     "execution_count": 49,
     "metadata": {},
     "output_type": "execute_result"
    }
   ],
   "source": [
    "# Frequescy table of target variable default and flag mobile with Odds value\n",
    "pd.pivot_table(data = application[['FLAG_MOBIL', 'ID', 'default']], index = 'FLAG_MOBIL', columns = 'default', values = 'ID',\n",
    "              aggfunc = 'nunique').assign(odds = lambda x : x[1]/x[0])"
   ]
  },
  {
   "cell_type": "markdown",
   "id": "5737c927",
   "metadata": {},
   "source": [
    "We will exclude this field from the model as there is only one class in this field"
   ]
  },
  {
   "cell_type": "markdown",
   "id": "21beb2c6",
   "metadata": {},
   "source": [
    "# Flag work phone"
   ]
  },
  {
   "cell_type": "code",
   "execution_count": 50,
   "id": "b126edb0",
   "metadata": {},
   "outputs": [
    {
     "data": {
      "text/html": [
       "<div>\n",
       "<style scoped>\n",
       "    .dataframe tbody tr th:only-of-type {\n",
       "        vertical-align: middle;\n",
       "    }\n",
       "\n",
       "    .dataframe tbody tr th {\n",
       "        vertical-align: top;\n",
       "    }\n",
       "\n",
       "    .dataframe thead th {\n",
       "        text-align: right;\n",
       "    }\n",
       "</style>\n",
       "<table border=\"1\" class=\"dataframe\">\n",
       "  <thead>\n",
       "    <tr style=\"text-align: right;\">\n",
       "      <th>default</th>\n",
       "      <th>0.0</th>\n",
       "      <th>1.0</th>\n",
       "      <th>odds</th>\n",
       "      <th>woe</th>\n",
       "      <th>IV</th>\n",
       "    </tr>\n",
       "    <tr>\n",
       "      <th>FLAG_WORK_PHONE</th>\n",
       "      <th></th>\n",
       "      <th></th>\n",
       "      <th></th>\n",
       "      <th></th>\n",
       "      <th></th>\n",
       "    </tr>\n",
       "  </thead>\n",
       "  <tbody>\n",
       "    <tr>\n",
       "      <th>0</th>\n",
       "      <td>16781</td>\n",
       "      <td>78</td>\n",
       "      <td>0.004648</td>\n",
       "      <td>0.086719</td>\n",
       "      <td>0.005520</td>\n",
       "    </tr>\n",
       "    <tr>\n",
       "      <th>1</th>\n",
       "      <td>5116</td>\n",
       "      <td>33</td>\n",
       "      <td>0.006450</td>\n",
       "      <td>-0.240954</td>\n",
       "      <td>0.015339</td>\n",
       "    </tr>\n",
       "  </tbody>\n",
       "</table>\n",
       "</div>"
      ],
      "text/plain": [
       "default            0.0  1.0      odds       woe        IV\n",
       "FLAG_WORK_PHONE                                          \n",
       "0                16781   78  0.004648  0.086719  0.005520\n",
       "1                 5116   33  0.006450 -0.240954  0.015339"
      ]
     },
     "execution_count": 50,
     "metadata": {},
     "output_type": "execute_result"
    }
   ],
   "source": [
    "# Frequency table of target variable default and name flag work phone with Odds value, weight of evidence and Information value\n",
    "total_non_default, total_default = application['default'].value_counts()[0], application['default'].value_counts()[1]\n",
    "pd.pivot_table(data = application[['FLAG_WORK_PHONE', 'ID', 'default']], index = 'FLAG_WORK_PHONE', columns = 'default', values = 'ID',\n",
    "              aggfunc = 'nunique').assign(odds = lambda x : x[1]/x[0]).assign(woe = lambda x : np.log((x[0]/ total_non_default)/ (x[1]/total_default))).assign(IV = lambda x : ((x[0]/ total_non_default) - (x[1]/total_default))*x['woe'])"
   ]
  },
  {
   "cell_type": "code",
   "execution_count": 51,
   "id": "5acce73d",
   "metadata": {},
   "outputs": [
    {
     "data": {
      "text/plain": [
       "0.0208590124742076"
      ]
     },
     "execution_count": 51,
     "metadata": {},
     "output_type": "execute_result"
    }
   ],
   "source": [
    "# Information value of flag work phone\n",
    "total_non_default, total_default = application['default'].value_counts()[0], application['default'].value_counts()[1]\n",
    "pd.pivot_table(data = application[['FLAG_WORK_PHONE', 'ID', 'default']], index = 'FLAG_WORK_PHONE', columns = 'default', values = 'ID',\n",
    "              aggfunc = 'nunique').assign(odds = lambda x : x[1]/x[0]).assign(woe = lambda x : np.log((x[0]/ total_non_default)/ (x[1]/total_default))).assign(IV = lambda x : ((x[0]/ total_non_default) - (x[1]/total_default))*x['woe'])['IV'].sum()"
   ]
  },
  {
   "cell_type": "markdown",
   "id": "d8335119",
   "metadata": {},
   "source": [
    "The Information value is more than 0.02, We can keep this field in model building"
   ]
  },
  {
   "cell_type": "markdown",
   "id": "2a1d5b6b",
   "metadata": {},
   "source": [
    "# Flag phone"
   ]
  },
  {
   "cell_type": "code",
   "execution_count": 53,
   "id": "68faa69d",
   "metadata": {},
   "outputs": [
    {
     "data": {
      "text/html": [
       "<div>\n",
       "<style scoped>\n",
       "    .dataframe tbody tr th:only-of-type {\n",
       "        vertical-align: middle;\n",
       "    }\n",
       "\n",
       "    .dataframe tbody tr th {\n",
       "        vertical-align: top;\n",
       "    }\n",
       "\n",
       "    .dataframe thead th {\n",
       "        text-align: right;\n",
       "    }\n",
       "</style>\n",
       "<table border=\"1\" class=\"dataframe\">\n",
       "  <thead>\n",
       "    <tr style=\"text-align: right;\">\n",
       "      <th>default</th>\n",
       "      <th>0.0</th>\n",
       "      <th>1.0</th>\n",
       "      <th>odds</th>\n",
       "      <th>woe</th>\n",
       "      <th>IV</th>\n",
       "    </tr>\n",
       "    <tr>\n",
       "      <th>FLAG_PHONE</th>\n",
       "      <th></th>\n",
       "      <th></th>\n",
       "      <th></th>\n",
       "      <th></th>\n",
       "      <th></th>\n",
       "    </tr>\n",
       "  </thead>\n",
       "  <tbody>\n",
       "    <tr>\n",
       "      <th>0</th>\n",
       "      <td>15326</td>\n",
       "      <td>72</td>\n",
       "      <td>0.004698</td>\n",
       "      <td>0.076065</td>\n",
       "      <td>0.003899</td>\n",
       "    </tr>\n",
       "    <tr>\n",
       "      <th>1</th>\n",
       "      <td>6571</td>\n",
       "      <td>39</td>\n",
       "      <td>0.005935</td>\n",
       "      <td>-0.157715</td>\n",
       "      <td>0.008085</td>\n",
       "    </tr>\n",
       "  </tbody>\n",
       "</table>\n",
       "</div>"
      ],
      "text/plain": [
       "default       0.0  1.0      odds       woe        IV\n",
       "FLAG_PHONE                                          \n",
       "0           15326   72  0.004698  0.076065  0.003899\n",
       "1            6571   39  0.005935 -0.157715  0.008085"
      ]
     },
     "execution_count": 53,
     "metadata": {},
     "output_type": "execute_result"
    }
   ],
   "source": [
    "# Frequency table of target variable default and flag phone with Odds value, weight of evidence and Information value\n",
    "total_non_default, total_default = application['default'].value_counts()[0], application['default'].value_counts()[1]\n",
    "pd.pivot_table(data = application[['FLAG_PHONE', 'ID', 'default']], index = 'FLAG_PHONE', columns = 'default', values = 'ID',\n",
    "              aggfunc = 'nunique').assign(odds = lambda x : x[1]/x[0]).assign(woe = lambda x : np.log((x[0]/ total_non_default)/ (x[1]/total_default))).assign(IV = lambda x : ((x[0]/ total_non_default) - (x[1]/total_default))*x['woe'])"
   ]
  },
  {
   "cell_type": "code",
   "execution_count": 54,
   "id": "d2da618e",
   "metadata": {},
   "outputs": [
    {
     "data": {
      "text/plain": [
       "0.011984645737403743"
      ]
     },
     "execution_count": 54,
     "metadata": {},
     "output_type": "execute_result"
    }
   ],
   "source": [
    "# Information value of flag phone\n",
    "total_non_default, total_default = application['default'].value_counts()[0], application['default'].value_counts()[1]\n",
    "pd.pivot_table(data = application[['FLAG_PHONE', 'ID', 'default']], index = 'FLAG_PHONE', columns = 'default', values = 'ID',\n",
    "              aggfunc = 'nunique').assign(odds = lambda x : x[1]/x[0]).assign(woe = lambda x : np.log((x[0]/ total_non_default)/ (x[1]/total_default))).assign(IV = lambda x : ((x[0]/ total_non_default) - (x[1]/total_default))*x['woe'])['IV'].sum()"
   ]
  },
  {
   "cell_type": "markdown",
   "id": "b6edd74b",
   "metadata": {},
   "source": [
    "The Information value is less than 0.02, We can drop this field from model building"
   ]
  },
  {
   "cell_type": "markdown",
   "id": "eff15d8b",
   "metadata": {},
   "source": [
    "# Flag Email"
   ]
  },
  {
   "cell_type": "code",
   "execution_count": 55,
   "id": "ddb16803",
   "metadata": {},
   "outputs": [
    {
     "data": {
      "text/html": [
       "<div>\n",
       "<style scoped>\n",
       "    .dataframe tbody tr th:only-of-type {\n",
       "        vertical-align: middle;\n",
       "    }\n",
       "\n",
       "    .dataframe tbody tr th {\n",
       "        vertical-align: top;\n",
       "    }\n",
       "\n",
       "    .dataframe thead th {\n",
       "        text-align: right;\n",
       "    }\n",
       "</style>\n",
       "<table border=\"1\" class=\"dataframe\">\n",
       "  <thead>\n",
       "    <tr style=\"text-align: right;\">\n",
       "      <th>default</th>\n",
       "      <th>0.0</th>\n",
       "      <th>1.0</th>\n",
       "      <th>odds</th>\n",
       "      <th>woe</th>\n",
       "      <th>IV</th>\n",
       "    </tr>\n",
       "    <tr>\n",
       "      <th>FLAG_EMAIL</th>\n",
       "      <th></th>\n",
       "      <th></th>\n",
       "      <th></th>\n",
       "      <th></th>\n",
       "      <th></th>\n",
       "    </tr>\n",
       "  </thead>\n",
       "  <tbody>\n",
       "    <tr>\n",
       "      <th>0</th>\n",
       "      <td>19890</td>\n",
       "      <td>102</td>\n",
       "      <td>0.005128</td>\n",
       "      <td>-0.011575</td>\n",
       "      <td>0.000122</td>\n",
       "    </tr>\n",
       "    <tr>\n",
       "      <th>1</th>\n",
       "      <td>2007</td>\n",
       "      <td>9</td>\n",
       "      <td>0.004484</td>\n",
       "      <td>0.122597</td>\n",
       "      <td>0.001297</td>\n",
       "    </tr>\n",
       "  </tbody>\n",
       "</table>\n",
       "</div>"
      ],
      "text/plain": [
       "default       0.0  1.0      odds       woe        IV\n",
       "FLAG_EMAIL                                          \n",
       "0           19890  102  0.005128 -0.011575  0.000122\n",
       "1            2007    9  0.004484  0.122597  0.001297"
      ]
     },
     "execution_count": 55,
     "metadata": {},
     "output_type": "execute_result"
    }
   ],
   "source": [
    "# Frequency table of target variable default and flag email with Odds value, weight of evidence and Information value\n",
    "total_non_default, total_default = application['default'].value_counts()[0], application['default'].value_counts()[1]\n",
    "pd.pivot_table(data = application[['FLAG_EMAIL', 'ID', 'default']], index = 'FLAG_EMAIL', columns = 'default', values = 'ID',\n",
    "              aggfunc = 'nunique').assign(odds = lambda x : x[1]/x[0]).assign(woe = lambda x : np.log((x[0]/ total_non_default)/ (x[1]/total_default))).assign(IV = lambda x : ((x[0]/ total_non_default) - (x[1]/total_default))*x['woe'])"
   ]
  },
  {
   "cell_type": "code",
   "execution_count": 56,
   "id": "bc43e164",
   "metadata": {},
   "outputs": [
    {
     "data": {
      "text/plain": [
       "0.0014189127723236363"
      ]
     },
     "execution_count": 56,
     "metadata": {},
     "output_type": "execute_result"
    }
   ],
   "source": [
    "# Information value of flag email\n",
    "total_non_default, total_default = application['default'].value_counts()[0], application['default'].value_counts()[1]\n",
    "pd.pivot_table(data = application[['FLAG_EMAIL', 'ID', 'default']], index = 'FLAG_EMAIL', columns = 'default', values = 'ID',\n",
    "              aggfunc = 'nunique').assign(odds = lambda x : x[1]/x[0]).assign(woe = lambda x : np.log((x[0]/ total_non_default)/ (x[1]/total_default))).assign(IV = lambda x : ((x[0]/ total_non_default) - (x[1]/total_default))*x['woe'])['IV'].sum()"
   ]
  },
  {
   "cell_type": "markdown",
   "id": "6634acc8",
   "metadata": {},
   "source": [
    "The Information value is less than 0.02, We can drop this field from model building"
   ]
  },
  {
   "cell_type": "markdown",
   "id": "1f812c63",
   "metadata": {},
   "source": [
    "# Days Birth"
   ]
  },
  {
   "cell_type": "code",
   "execution_count": 57,
   "id": "ae233dac",
   "metadata": {},
   "outputs": [
    {
     "data": {
      "text/plain": [
       "<AxesSubplot:xlabel='DAYS_BIRTH', ylabel='Count'>"
      ]
     },
     "execution_count": 57,
     "metadata": {},
     "output_type": "execute_result"
    },
    {
     "data": {
      "image/png": "[encoded data removed]",
      "text/plain": [
       "<Figure size 432x288 with 1 Axes>"
      ]
     },
     "metadata": {
      "needs_background": "light"
     },
     "output_type": "display_data"
    }
   ],
   "source": [
    "# Histogram plot to check the data distribution of days_birth\n",
    "sns.histplot(data = application, x = 'DAYS_BIRTH', bins = 10)"
   ]
  },
  {
   "cell_type": "code",
   "execution_count": 58,
   "id": "db5366ae",
   "metadata": {},
   "outputs": [],
   "source": [
    "# We will create 11 bins to make days_birth field categorical\n",
    "birth_bin = np.arange(application['DAYS_BIRTH'].min(), application['DAYS_BIRTH'].max()+1, (application['DAYS_BIRTH'].max() - application['DAYS_BIRTH'].min())/10)\n",
    "application['DAYS_BIRTH_BIN'] = np.digitize(application['DAYS_BIRTH'], birth_bin)"
   ]
  },
  {
   "cell_type": "code",
   "execution_count": 60,
   "id": "8daa1fc4",
   "metadata": {},
   "outputs": [
    {
     "data": {
      "text/html": [
       "<div>\n",
       "<style scoped>\n",
       "    .dataframe tbody tr th:only-of-type {\n",
       "        vertical-align: middle;\n",
       "    }\n",
       "\n",
       "    .dataframe tbody tr th {\n",
       "        vertical-align: top;\n",
       "    }\n",
       "\n",
       "    .dataframe thead th {\n",
       "        text-align: right;\n",
       "    }\n",
       "</style>\n",
       "<table border=\"1\" class=\"dataframe\">\n",
       "  <thead>\n",
       "    <tr style=\"text-align: right;\">\n",
       "      <th>default</th>\n",
       "      <th>0.0</th>\n",
       "      <th>1.0</th>\n",
       "      <th>odds</th>\n",
       "      <th>woe</th>\n",
       "      <th>IV</th>\n",
       "    </tr>\n",
       "    <tr>\n",
       "      <th>DAYS_BIRTH_BIN</th>\n",
       "      <th></th>\n",
       "      <th></th>\n",
       "      <th></th>\n",
       "      <th></th>\n",
       "      <th></th>\n",
       "    </tr>\n",
       "  </thead>\n",
       "  <tbody>\n",
       "    <tr>\n",
       "      <th>1</th>\n",
       "      <td>495.0</td>\n",
       "      <td>1.0</td>\n",
       "      <td>0.002020</td>\n",
       "      <td>0.919983</td>\n",
       "      <td>0.012509</td>\n",
       "    </tr>\n",
       "    <tr>\n",
       "      <th>2</th>\n",
       "      <td>2660.0</td>\n",
       "      <td>15.0</td>\n",
       "      <td>0.005639</td>\n",
       "      <td>-0.106544</td>\n",
       "      <td>0.001455</td>\n",
       "    </tr>\n",
       "    <tr>\n",
       "      <th>3</th>\n",
       "      <td>3046.0</td>\n",
       "      <td>17.0</td>\n",
       "      <td>0.005581</td>\n",
       "      <td>-0.096204</td>\n",
       "      <td>0.001351</td>\n",
       "    </tr>\n",
       "    <tr>\n",
       "      <th>4</th>\n",
       "      <td>2717.0</td>\n",
       "      <td>4.0</td>\n",
       "      <td>0.001472</td>\n",
       "      <td>1.236415</td>\n",
       "      <td>0.108860</td>\n",
       "    </tr>\n",
       "    <tr>\n",
       "      <th>5</th>\n",
       "      <td>3248.0</td>\n",
       "      <td>18.0</td>\n",
       "      <td>0.005542</td>\n",
       "      <td>-0.089152</td>\n",
       "      <td>0.001233</td>\n",
       "    </tr>\n",
       "    <tr>\n",
       "      <th>6</th>\n",
       "      <td>2546.0</td>\n",
       "      <td>11.0</td>\n",
       "      <td>0.004321</td>\n",
       "      <td>0.159809</td>\n",
       "      <td>0.002744</td>\n",
       "    </tr>\n",
       "    <tr>\n",
       "      <th>7</th>\n",
       "      <td>2044.0</td>\n",
       "      <td>11.0</td>\n",
       "      <td>0.005382</td>\n",
       "      <td>-0.059806</td>\n",
       "      <td>0.000344</td>\n",
       "    </tr>\n",
       "    <tr>\n",
       "      <th>8</th>\n",
       "      <td>2361.0</td>\n",
       "      <td>11.0</td>\n",
       "      <td>0.004659</td>\n",
       "      <td>0.084371</td>\n",
       "      <td>0.000736</td>\n",
       "    </tr>\n",
       "    <tr>\n",
       "      <th>9</th>\n",
       "      <td>2035.0</td>\n",
       "      <td>15.0</td>\n",
       "      <td>0.007371</td>\n",
       "      <td>-0.374374</td>\n",
       "      <td>0.015799</td>\n",
       "    </tr>\n",
       "    <tr>\n",
       "      <th>10</th>\n",
       "      <td>720.0</td>\n",
       "      <td>8.0</td>\n",
       "      <td>0.011111</td>\n",
       "      <td>-0.784765</td>\n",
       "      <td>0.030756</td>\n",
       "    </tr>\n",
       "    <tr>\n",
       "      <th>11</th>\n",
       "      <td>25.0</td>\n",
       "      <td>NaN</td>\n",
       "      <td>NaN</td>\n",
       "      <td>NaN</td>\n",
       "      <td>NaN</td>\n",
       "    </tr>\n",
       "  </tbody>\n",
       "</table>\n",
       "</div>"
      ],
      "text/plain": [
       "default            0.0   1.0      odds       woe        IV\n",
       "DAYS_BIRTH_BIN                                            \n",
       "1                495.0   1.0  0.002020  0.919983  0.012509\n",
       "2               2660.0  15.0  0.005639 -0.106544  0.001455\n",
       "3               3046.0  17.0  0.005581 -0.096204  0.001351\n",
       "4               2717.0   4.0  0.001472  1.236415  0.108860\n",
       "5               3248.0  18.0  0.005542 -0.089152  0.001233\n",
       "6               2546.0  11.0  0.004321  0.159809  0.002744\n",
       "7               2044.0  11.0  0.005382 -0.059806  0.000344\n",
       "8               2361.0  11.0  0.004659  0.084371  0.000736\n",
       "9               2035.0  15.0  0.007371 -0.374374  0.015799\n",
       "10               720.0   8.0  0.011111 -0.784765  0.030756\n",
       "11                25.0   NaN       NaN       NaN       NaN"
      ]
     },
     "execution_count": 60,
     "metadata": {},
     "output_type": "execute_result"
    }
   ],
   "source": [
    "# Frequency table of target variable default and DAYS_BIRTH_BIN with Odds value, weight of evidence and Information value\n",
    "pd.pivot_table(data = application[['DAYS_BIRTH_BIN', 'ID', 'default']], index = 'DAYS_BIRTH_BIN', columns = 'default', values = 'ID',\n",
    "              aggfunc = 'nunique').assign(odds = lambda x : x[1]/x[0]).assign(woe = lambda x : np.log((x[0]/ total_non_default)/ (x[1]/total_default))).assign(IV = lambda x : ((x[0]/ total_non_default) - (x[1]/total_default))*x['woe'])"
   ]
  },
  {
   "cell_type": "code",
   "execution_count": 61,
   "id": "da92351d",
   "metadata": {},
   "outputs": [],
   "source": [
    "# We can drop 11th Bin as there is no defaulter\n",
    "application = application[~application['DAYS_BIRTH_BIN'].isin([11])]"
   ]
  },
  {
   "cell_type": "code",
   "execution_count": 62,
   "id": "851ea322",
   "metadata": {},
   "outputs": [
    {
     "data": {
      "text/plain": [
       "0.1758969591506346"
      ]
     },
     "execution_count": 62,
     "metadata": {},
     "output_type": "execute_result"
    }
   ],
   "source": [
    "# Information value of DAYS_BIRTH_BIN\n",
    "total_non_default, total_default = application['default'].value_counts()[0], application['default'].value_counts()[1]\n",
    "pd.pivot_table(data = application[['DAYS_BIRTH_BIN', 'ID', 'default']], index = 'DAYS_BIRTH_BIN', columns = 'default', values = 'ID',\n",
    "              aggfunc = 'nunique').assign(odds = lambda x : x[1]/x[0]).assign(woe = lambda x : np.log((x[0]/ total_non_default)/ (x[1]/total_default))).assign(IV = lambda x : ((x[0]/ total_non_default) - (x[1]/total_default))*x['woe'])['IV'].sum()"
   ]
  },
  {
   "cell_type": "markdown",
   "id": "deea2a65",
   "metadata": {},
   "source": [
    "The Information value is more than 0.02, We can keep this field in model building"
   ]
  },
  {
   "cell_type": "code",
   "execution_count": 70,
   "id": "8fc130cb",
   "metadata": {},
   "outputs": [
    {
     "data": {
      "text/plain": [
       "<AxesSubplot:xlabel='DAYS_BIRTH_BIN', ylabel='default'>"
      ]
     },
     "execution_count": 70,
     "metadata": {},
     "output_type": "execute_result"
    },
    {
     "data": {
      "image/png": "[encoded data removed]",
      "text/plain": [
       "<Figure size 432x288 with 1 Axes>"
      ]
     },
     "metadata": {
      "needs_background": "light"
     },
     "output_type": "display_data"
    }
   ],
   "source": [
    "# Check the average numbers defaulters in each bucket\n",
    "sns.barplot(data = application, x = 'DAYS_BIRTH_BIN', y = 'default', color = 'blue')"
   ]
  },
  {
   "cell_type": "markdown",
   "id": "61ab94ec",
   "metadata": {},
   "source": [
    "# Days employed"
   ]
  },
  {
   "cell_type": "code",
   "execution_count": 63,
   "id": "68bd2935",
   "metadata": {},
   "outputs": [
    {
     "data": {
      "text/plain": [
       "<AxesSubplot:xlabel='DAYS_EMPLOYED', ylabel='Count'>"
      ]
     },
     "execution_count": 63,
     "metadata": {},
     "output_type": "execute_result"
    },
    {
     "data": {
      "image/png": "[encoded data removed]",
      "text/plain": [
       "<Figure size 432x288 with 1 Axes>"
      ]
     },
     "metadata": {
      "needs_background": "light"
     },
     "output_type": "display_data"
    }
   ],
   "source": [
    "# Histogram plot to check the data distribution of days_employed\n",
    "sns.histplot(data = application, x = 'DAYS_EMPLOYED', bins = 10)"
   ]
  },
  {
   "cell_type": "code",
   "execution_count": 64,
   "id": "f8932ec2",
   "metadata": {},
   "outputs": [],
   "source": [
    "# We will create 11 bins for DAYS_EMPLOYED field and separately create 1 bin for pensioners\n",
    "min_employed_days = application[application['DAYS_EMPLOYED'] != 0]['DAYS_EMPLOYED'].min()\n",
    "max_emplyed_days = application[application['DAYS_EMPLOYED'] != 0]['DAYS_EMPLOYED'].max()\n",
    "\n",
    "employed_bin = np.arange(min_employed_days, max_emplyed_days+1, (max_emplyed_days - min_employed_days)/10)\n",
    "application.loc[application['DAYS_EMPLOYED'] != 0, 'DAYS_EMPLOYED_BIN'] = np.digitize(application[application['DAYS_EMPLOYED'] != 0]['DAYS_EMPLOYED'], employed_bin)\n",
    "application.loc[application['DAYS_EMPLOYED_BIN'].isna(), 'DAYS_EMPLOYED_BIN'] = 12"
   ]
  },
  {
   "cell_type": "code",
   "execution_count": 65,
   "id": "e8accc8b",
   "metadata": {},
   "outputs": [
    {
     "data": {
      "text/html": [
       "<div>\n",
       "<style scoped>\n",
       "    .dataframe tbody tr th:only-of-type {\n",
       "        vertical-align: middle;\n",
       "    }\n",
       "\n",
       "    .dataframe tbody tr th {\n",
       "        vertical-align: top;\n",
       "    }\n",
       "\n",
       "    .dataframe thead th {\n",
       "        text-align: right;\n",
       "    }\n",
       "</style>\n",
       "<table border=\"1\" class=\"dataframe\">\n",
       "  <thead>\n",
       "    <tr style=\"text-align: right;\">\n",
       "      <th>default</th>\n",
       "      <th>0.0</th>\n",
       "      <th>1.0</th>\n",
       "      <th>odds</th>\n",
       "      <th>woe</th>\n",
       "      <th>IV</th>\n",
       "    </tr>\n",
       "    <tr>\n",
       "      <th>DAYS_EMPLOYED_BIN</th>\n",
       "      <th></th>\n",
       "      <th></th>\n",
       "      <th></th>\n",
       "      <th></th>\n",
       "      <th></th>\n",
       "    </tr>\n",
       "  </thead>\n",
       "  <tbody>\n",
       "    <tr>\n",
       "      <th>1.0</th>\n",
       "      <td>7794.0</td>\n",
       "      <td>46.0</td>\n",
       "      <td>0.005902</td>\n",
       "      <td>-0.150964</td>\n",
       "      <td>0.008766</td>\n",
       "    </tr>\n",
       "    <tr>\n",
       "      <th>2.0</th>\n",
       "      <td>4474.0</td>\n",
       "      <td>13.0</td>\n",
       "      <td>0.002906</td>\n",
       "      <td>0.557656</td>\n",
       "      <td>0.048760</td>\n",
       "    </tr>\n",
       "    <tr>\n",
       "      <th>3.0</th>\n",
       "      <td>2017.0</td>\n",
       "      <td>7.0</td>\n",
       "      <td>0.003471</td>\n",
       "      <td>0.380024</td>\n",
       "      <td>0.011080</td>\n",
       "    </tr>\n",
       "    <tr>\n",
       "      <th>4.0</th>\n",
       "      <td>1085.0</td>\n",
       "      <td>1.0</td>\n",
       "      <td>0.000922</td>\n",
       "      <td>1.705903</td>\n",
       "      <td>0.069256</td>\n",
       "    </tr>\n",
       "    <tr>\n",
       "      <th>5.0</th>\n",
       "      <td>670.0</td>\n",
       "      <td>2.0</td>\n",
       "      <td>0.002985</td>\n",
       "      <td>0.530698</td>\n",
       "      <td>0.006695</td>\n",
       "    </tr>\n",
       "    <tr>\n",
       "      <th>6.0</th>\n",
       "      <td>469.0</td>\n",
       "      <td>1.0</td>\n",
       "      <td>0.002132</td>\n",
       "      <td>0.867170</td>\n",
       "      <td>0.010782</td>\n",
       "    </tr>\n",
       "    <tr>\n",
       "      <th>7.0</th>\n",
       "      <td>183.0</td>\n",
       "      <td>NaN</td>\n",
       "      <td>NaN</td>\n",
       "      <td>NaN</td>\n",
       "      <td>NaN</td>\n",
       "    </tr>\n",
       "    <tr>\n",
       "      <th>8.0</th>\n",
       "      <td>101.0</td>\n",
       "      <td>1.0</td>\n",
       "      <td>0.009901</td>\n",
       "      <td>-0.668312</td>\n",
       "      <td>0.002935</td>\n",
       "    </tr>\n",
       "    <tr>\n",
       "      <th>9.0</th>\n",
       "      <td>40.0</td>\n",
       "      <td>NaN</td>\n",
       "      <td>NaN</td>\n",
       "      <td>NaN</td>\n",
       "      <td>NaN</td>\n",
       "    </tr>\n",
       "    <tr>\n",
       "      <th>10.0</th>\n",
       "      <td>44.0</td>\n",
       "      <td>NaN</td>\n",
       "      <td>NaN</td>\n",
       "      <td>NaN</td>\n",
       "      <td>NaN</td>\n",
       "    </tr>\n",
       "    <tr>\n",
       "      <th>11.0</th>\n",
       "      <td>1.0</td>\n",
       "      <td>NaN</td>\n",
       "      <td>NaN</td>\n",
       "      <td>NaN</td>\n",
       "      <td>NaN</td>\n",
       "    </tr>\n",
       "    <tr>\n",
       "      <th>12.0</th>\n",
       "      <td>4994.0</td>\n",
       "      <td>40.0</td>\n",
       "      <td>0.008010</td>\n",
       "      <td>-0.456319</td>\n",
       "      <td>0.060249</td>\n",
       "    </tr>\n",
       "  </tbody>\n",
       "</table>\n",
       "</div>"
      ],
      "text/plain": [
       "default               0.0   1.0      odds       woe        IV\n",
       "DAYS_EMPLOYED_BIN                                            \n",
       "1.0                7794.0  46.0  0.005902 -0.150964  0.008766\n",
       "2.0                4474.0  13.0  0.002906  0.557656  0.048760\n",
       "3.0                2017.0   7.0  0.003471  0.380024  0.011080\n",
       "4.0                1085.0   1.0  0.000922  1.705903  0.069256\n",
       "5.0                 670.0   2.0  0.002985  0.530698  0.006695\n",
       "6.0                 469.0   1.0  0.002132  0.867170  0.010782\n",
       "7.0                 183.0   NaN       NaN       NaN       NaN\n",
       "8.0                 101.0   1.0  0.009901 -0.668312  0.002935\n",
       "9.0                  40.0   NaN       NaN       NaN       NaN\n",
       "10.0                 44.0   NaN       NaN       NaN       NaN\n",
       "11.0                  1.0   NaN       NaN       NaN       NaN\n",
       "12.0               4994.0  40.0  0.008010 -0.456319  0.060249"
      ]
     },
     "execution_count": 65,
     "metadata": {},
     "output_type": "execute_result"
    }
   ],
   "source": [
    "# Frequency table of target variable default and DAYS_EMPLOYED_BIN with Odds value, weight of evidence and Information value\n",
    "total_non_default, total_default = application['default'].value_counts()[0], application['default'].value_counts()[1]\n",
    "pd.pivot_table(data = application[['DAYS_EMPLOYED_BIN', 'ID', 'default']], index = 'DAYS_EMPLOYED_BIN', columns = 'default', values = 'ID',\n",
    "              aggfunc = 'nunique').assign(odds = lambda x : x[1]/x[0]).assign(woe = lambda x : np.log((x[0]/ total_non_default)/ (x[1]/total_default))).assign(IV = lambda x : ((x[0]/ total_non_default) - (x[1]/total_default))*x['woe'])"
   ]
  },
  {
   "cell_type": "code",
   "execution_count": 67,
   "id": "a37d7eb1",
   "metadata": {},
   "outputs": [],
   "source": [
    "# We will delete few categories from DAYS_EMPLOYED_BIN as there is no defaulters\n",
    "application = application[~application['DAYS_EMPLOYED_BIN'].isin([7, 9, 10, 11])]"
   ]
  },
  {
   "cell_type": "code",
   "execution_count": 68,
   "id": "97773629",
   "metadata": {},
   "outputs": [
    {
     "data": {
      "text/plain": [
       "0.2198556523418836"
      ]
     },
     "execution_count": 68,
     "metadata": {},
     "output_type": "execute_result"
    }
   ],
   "source": [
    "# Information value of DAYS_EMPLOYED_BIN\n",
    "total_non_default, total_default = application['default'].value_counts()[0], application['default'].value_counts()[1]\n",
    "pd.pivot_table(data = application[['DAYS_EMPLOYED_BIN', 'ID', 'default']], index = 'DAYS_EMPLOYED_BIN', columns = 'default', values = 'ID',\n",
    "              aggfunc = 'nunique').assign(odds = lambda x : x[1]/x[0]).assign(woe = lambda x : np.log((x[0]/ total_non_default)/ (x[1]/total_default))).assign(IV = lambda x : ((x[0]/ total_non_default) - (x[1]/total_default))*x['woe'])['IV'].sum()"
   ]
  },
  {
   "cell_type": "markdown",
   "id": "d373ab20",
   "metadata": {},
   "source": [
    "The Information value is more than 0.02, We can keep this field in model building"
   ]
  },
  {
   "cell_type": "code",
   "execution_count": 69,
   "id": "1046a5e0",
   "metadata": {},
   "outputs": [
    {
     "data": {
      "text/plain": [
       "<AxesSubplot:xlabel='DAYS_EMPLOYED_BIN', ylabel='default'>"
      ]
     },
     "execution_count": 69,
     "metadata": {},
     "output_type": "execute_result"
    },
    {
     "data": {
      "image/png": "[encoded data removed]",
      "text/plain": [
       "<Figure size 432x288 with 1 Axes>"
      ]
     },
     "metadata": {
      "needs_background": "light"
     },
     "output_type": "display_data"
    }
   ],
   "source": [
    "# Check the average numbers defaulters in each bucket\n",
    "sns.barplot(data = application, x = 'DAYS_EMPLOYED_BIN', y = 'default', color = 'blue')"
   ]
  },
  {
   "cell_type": "code",
   "execution_count": 71,
   "id": "796cefd4",
   "metadata": {},
   "outputs": [],
   "source": [
    "# Cheange the data type of newly added fields in application data\n",
    "application = application.astype(dtype = {\n",
    "    'DAYS_BIRTH_BIN' : 'object',\n",
    "    'DAYS_EMPLOYED_BIN' : 'object'\n",
    "})"
   ]
  },
  {
   "cell_type": "code",
   "execution_count": 98,
   "id": "a2f20f86",
   "metadata": {},
   "outputs": [
    {
     "name": "stdout",
     "output_type": "stream",
     "text": [
      "Chi-square test of significance between default and Gender, P value is:  0.9468413326574614\n",
      "Chi-square test of significance between default and FLAG_OWN_CAR, P value is:  0.9810817787876268\n",
      "Chi-square test of significance between default and FLAG_OWN_REALTY, P value is:  0.001746683332866821\n",
      "Chi-square test of significance between default and NAME_INCOME_TYPE, P value is:  0.06176248819185502\n",
      "Chi-square test of significance between default and NAME_EDUCATION_TYPE, P value is:  0.014393888773132836\n",
      "Chi-square test of significance between default and NAME_FAMILY_STATUS, P value is:  0.01109396458771273\n",
      "Chi-square test of significance between default and NAME_HOUSING_TYPE, P value is:  0.0679808044736192\n",
      "Chi-square test of significance between default and FLAG_WORK_PHONE, P value is:  0.10954902352305593\n",
      "Chi-square test of significance between default and FLAG_PHONE, P value is:  0.2956191699679673\n",
      "Chi-square test of significance between default and FLAG_EMAIL, P value is:  0.8504468552977766\n",
      "Chi-square test of significance between default and OCCUPATION_TYPE, P value is:  0.33426966099420996\n",
      "Chi-square test of significance between default and DAYS_BIRTH_BIN, P value is:  0.09309808145039265\n",
      "Chi-square test of significance between default and DAYS_EMPLOYED_BIN, P value is:  0.008675179336125619\n"
     ]
    }
   ],
   "source": [
    "# Chi-square test for independence between target variable default and categorical fields\n",
    "\n",
    "print('Chi-square test of significance between default and Gender, P value is: ', chi2_contingency(pd.crosstab(columns= application['default'], index = application['CODE_GENDER']), correction = True)[1])\n",
    "print('Chi-square test of significance between default and FLAG_OWN_CAR, P value is: ', chi2_contingency(pd.crosstab(columns= application['default'], index = application['FLAG_OWN_CAR']), correction = True)[1])\n",
    "print('Chi-square test of significance between default and FLAG_OWN_REALTY, P value is: ', chi2_contingency(pd.crosstab(columns= application['default'], index = application['FLAG_OWN_REALTY']), correction = True)[1])\n",
    "print('Chi-square test of significance between default and NAME_INCOME_TYPE, P value is: ', chi2_contingency(pd.crosstab(columns= application['default'], index = application['NAME_INCOME_TYPE']), correction = False)[1])\n",
    "print('Chi-square test of significance between default and NAME_EDUCATION_TYPE, P value is: ', chi2_contingency(pd.crosstab(columns= application['default'], index = application['NAME_EDUCATION_TYPE']), correction = False)[1])\n",
    "print('Chi-square test of significance between default and NAME_FAMILY_STATUS, P value is: ', chi2_contingency(pd.crosstab(columns= application['default'], index = application['NAME_FAMILY_STATUS']), correction = False)[1])\n",
    "print('Chi-square test of significance between default and NAME_HOUSING_TYPE, P value is: ', chi2_contingency(pd.crosstab(columns= application['default'], index = application['NAME_HOUSING_TYPE']), correction = False)[1])\n",
    "print('Chi-square test of significance between default and FLAG_WORK_PHONE, P value is: ', chi2_contingency(pd.crosstab(columns= application['default'], index = application['FLAG_WORK_PHONE']), correction = True)[1])\n",
    "print('Chi-square test of significance between default and FLAG_PHONE, P value is: ', chi2_contingency(pd.crosstab(columns= application['default'], index = application['FLAG_PHONE']), correction = True)[1])\n",
    "print('Chi-square test of significance between default and FLAG_EMAIL, P value is: ', chi2_contingency(pd.crosstab(columns= application['default'], index = application['FLAG_EMAIL']), correction = True)[1])\n",
    "print('Chi-square test of significance between default and OCCUPATION_TYPE, P value is: ', chi2_contingency(pd.crosstab(columns= application['default'], index = application['OCCUPATION_TYPE']), correction = False)[1])\n",
    "print('Chi-square test of significance between default and DAYS_BIRTH_BIN, P value is: ', chi2_contingency(pd.crosstab(columns= application['default'], index = application['DAYS_BIRTH_BIN']), correction = False)[1])\n",
    "print('Chi-square test of significance between default and DAYS_EMPLOYED_BIN, P value is: ', chi2_contingency(pd.crosstab(columns= application['default'], index = application['DAYS_EMPLOYED_BIN']), correction = False)[1])"
   ]
  },
  {
   "cell_type": "markdown",
   "id": "fd858b80",
   "metadata": {},
   "source": [
    "We would first try to use fields in model based on their information value rather than relying on statstical test."
   ]
  },
  {
   "cell_type": "code",
   "execution_count": 74,
   "id": "c32d5b7c",
   "metadata": {},
   "outputs": [
    {
     "data": {
      "text/html": [
       "<div>\n",
       "<style scoped>\n",
       "    .dataframe tbody tr th:only-of-type {\n",
       "        vertical-align: middle;\n",
       "    }\n",
       "\n",
       "    .dataframe tbody tr th {\n",
       "        vertical-align: top;\n",
       "    }\n",
       "\n",
       "    .dataframe thead th {\n",
       "        text-align: right;\n",
       "    }\n",
       "</style>\n",
       "<table border=\"1\" class=\"dataframe\">\n",
       "  <thead>\n",
       "    <tr style=\"text-align: right;\">\n",
       "      <th></th>\n",
       "      <th>AMT_INCOME_TOTAL</th>\n",
       "      <th>CNT_CHILDREN</th>\n",
       "      <th>CNT_FAM_MEMBERS</th>\n",
       "      <th>DAYS_BIRTH</th>\n",
       "      <th>DAYS_EMPLOYED</th>\n",
       "    </tr>\n",
       "    <tr>\n",
       "      <th>default</th>\n",
       "      <th></th>\n",
       "      <th></th>\n",
       "      <th></th>\n",
       "      <th></th>\n",
       "      <th></th>\n",
       "    </tr>\n",
       "  </thead>\n",
       "  <tbody>\n",
       "    <tr>\n",
       "      <th>0.0</th>\n",
       "      <td>187997.501481</td>\n",
       "      <td>0.425986</td>\n",
       "      <td>2.206258</td>\n",
       "      <td>43.445149</td>\n",
       "      <td>5.626967</td>\n",
       "    </tr>\n",
       "    <tr>\n",
       "      <th>1.0</th>\n",
       "      <td>174186.486486</td>\n",
       "      <td>0.333333</td>\n",
       "      <td>2.036036</td>\n",
       "      <td>45.693694</td>\n",
       "      <td>3.621622</td>\n",
       "    </tr>\n",
       "  </tbody>\n",
       "</table>\n",
       "</div>"
      ],
      "text/plain": [
       "         AMT_INCOME_TOTAL  CNT_CHILDREN  CNT_FAM_MEMBERS  DAYS_BIRTH  \\\n",
       "default                                                                \n",
       "0.0         187997.501481      0.425986         2.206258   43.445149   \n",
       "1.0         174186.486486      0.333333         2.036036   45.693694   \n",
       "\n",
       "         DAYS_EMPLOYED  \n",
       "default                 \n",
       "0.0           5.626967  \n",
       "1.0           3.621622  "
      ]
     },
     "execution_count": 74,
     "metadata": {},
     "output_type": "execute_result"
    }
   ],
   "source": [
    "# Checking the mean difference in default and non-default class across continuous variables\n",
    "pd.pivot_table(application, index = 'default', values = ['CNT_CHILDREN', 'AMT_INCOME_TOTAL', 'DAYS_BIRTH', 'DAYS_EMPLOYED', 'CNT_FAM_MEMBERS'], aggfunc = 'mean')"
   ]
  },
  {
   "cell_type": "code",
   "execution_count": 75,
   "id": "3503c25d",
   "metadata": {},
   "outputs": [
    {
     "data": {
      "text/html": [
       "<div>\n",
       "<style scoped>\n",
       "    .dataframe tbody tr th:only-of-type {\n",
       "        vertical-align: middle;\n",
       "    }\n",
       "\n",
       "    .dataframe tbody tr th {\n",
       "        vertical-align: top;\n",
       "    }\n",
       "\n",
       "    .dataframe thead th {\n",
       "        text-align: right;\n",
       "    }\n",
       "</style>\n",
       "<table border=\"1\" class=\"dataframe\">\n",
       "  <thead>\n",
       "    <tr style=\"text-align: right;\">\n",
       "      <th></th>\n",
       "      <th>AMT_INCOME_TOTAL</th>\n",
       "      <th>CNT_CHILDREN</th>\n",
       "      <th>CNT_FAM_MEMBERS</th>\n",
       "      <th>DAYS_BIRTH</th>\n",
       "      <th>DAYS_EMPLOYED</th>\n",
       "    </tr>\n",
       "    <tr>\n",
       "      <th>default</th>\n",
       "      <th></th>\n",
       "      <th></th>\n",
       "      <th></th>\n",
       "      <th></th>\n",
       "      <th></th>\n",
       "    </tr>\n",
       "  </thead>\n",
       "  <tbody>\n",
       "    <tr>\n",
       "      <th>0.0</th>\n",
       "      <td>166500.0</td>\n",
       "      <td>0</td>\n",
       "      <td>2.0</td>\n",
       "      <td>42</td>\n",
       "      <td>4</td>\n",
       "    </tr>\n",
       "    <tr>\n",
       "      <th>1.0</th>\n",
       "      <td>180000.0</td>\n",
       "      <td>0</td>\n",
       "      <td>2.0</td>\n",
       "      <td>46</td>\n",
       "      <td>2</td>\n",
       "    </tr>\n",
       "  </tbody>\n",
       "</table>\n",
       "</div>"
      ],
      "text/plain": [
       "         AMT_INCOME_TOTAL  CNT_CHILDREN  CNT_FAM_MEMBERS  DAYS_BIRTH  \\\n",
       "default                                                                \n",
       "0.0              166500.0             0              2.0          42   \n",
       "1.0              180000.0             0              2.0          46   \n",
       "\n",
       "         DAYS_EMPLOYED  \n",
       "default                 \n",
       "0.0                  4  \n",
       "1.0                  2  "
      ]
     },
     "execution_count": 75,
     "metadata": {},
     "output_type": "execute_result"
    }
   ],
   "source": [
    "# Checking the median difference in default and non-default class across continuous variables\n",
    "pd.pivot_table(application, index = 'default', values = ['CNT_CHILDREN', 'AMT_INCOME_TOTAL', 'DAYS_BIRTH', 'DAYS_EMPLOYED', 'CNT_FAM_MEMBERS'], aggfunc = 'median')"
   ]
  },
  {
   "cell_type": "markdown",
   "id": "052d62d7",
   "metadata": {},
   "source": [
    "# =============== Model building ==============="
   ]
  },
  {
   "cell_type": "code",
   "execution_count": 78,
   "id": "98ec0895",
   "metadata": {},
   "outputs": [],
   "source": [
    "# Creating dummy variables for categorical variables in application data\n",
    "x_cat = pd.get_dummies(application[['NAME_INCOME_TYPE', 'NAME_FAMILY_STATUS', 'NAME_HOUSING_TYPE', 'OCCUPATION_TYPE', 'DAYS_BIRTH_BIN', 'DAYS_EMPLOYED_BIN']], drop_first = True)\n",
    "\n",
    "# Considering flag work phone field\n",
    "x_flag = application['FLAG_WORK_PHONE']\n",
    "x_flag = x_flag.astype('uint8')\n",
    "\n",
    "# Considering continuous variables in the model\n",
    "x_continuous = application[['AMT_INCOME_TOTAL', 'CNT_FAM_MEMBERS']]"
   ]
  },
  {
   "cell_type": "code",
   "execution_count": 80,
   "id": "ae9562b3",
   "metadata": {},
   "outputs": [],
   "source": [
    "# Independent variables\n",
    "x = pd.concat([x_cat, x_flag, x_continuous], axis = 1, ignore_index = False)\n",
    "\n",
    "# Dependent variable\n",
    "y = application['default']"
   ]
  },
  {
   "cell_type": "code",
   "execution_count": 81,
   "id": "a5103120",
   "metadata": {},
   "outputs": [],
   "source": [
    "# Labeling the dependent variable (Default & Non-default)\n",
    "le = preprocessing.LabelEncoder()\n",
    "y = le.fit_transform(y)"
   ]
  },
  {
   "cell_type": "code",
   "execution_count": 82,
   "id": "d97fb05c",
   "metadata": {},
   "outputs": [
    {
     "name": "stdout",
     "output_type": "stream",
     "text": [
      "Total number of non defaulters:  21604\n",
      "Total number of defaulters:  111\n"
     ]
    }
   ],
   "source": [
    "print('Total number of non defaulters: ', len(y) - y.sum())\n",
    "print('Total number of defaulters: ', y.sum())"
   ]
  },
  {
   "cell_type": "code",
   "execution_count": 83,
   "id": "e64a3804",
   "metadata": {},
   "outputs": [],
   "source": [
    "# Following oversampling methodology to make this imbalanced data balanced\n",
    "os = RandomOverSampler(sampling_strategy= 0.5)\n",
    "x_over, y_over = os.fit_resample(x, y)"
   ]
  },
  {
   "cell_type": "code",
   "execution_count": 84,
   "id": "26333880",
   "metadata": {},
   "outputs": [
    {
     "name": "stdout",
     "output_type": "stream",
     "text": [
      "Total number of non defaulters:  21604\n",
      "Total number of defaulters:  10802\n"
     ]
    }
   ],
   "source": [
    "# Checking the balance in defalut and Non-default class after over sampling minor class\n",
    "print('Total number of non defaulters: ', len(y_over) - y_over.sum())\n",
    "print('Total number of defaulters: ', y_over.sum())"
   ]
  },
  {
   "cell_type": "code",
   "execution_count": 85,
   "id": "b189c8e3",
   "metadata": {},
   "outputs": [],
   "source": [
    "# Creating training and test data set with 80-20 ratio\n",
    "x_train, x_test, y_train, y_test = train_test_split(x_over, y_over, test_size = 0.2, random_state = 42)"
   ]
  },
  {
   "cell_type": "code",
   "execution_count": 86,
   "id": "7058f196",
   "metadata": {},
   "outputs": [],
   "source": [
    "# Decision tree model\n",
    "penalty = {\n",
    "    0 : 1,\n",
    "    1: 2\n",
    "}\n",
    "model_ds = DecisionTreeClassifier(min_samples_leaf = 2, random_state = 42, class_weight = penalty).fit(x_train, y_train)"
   ]
  },
  {
   "cell_type": "code",
   "execution_count": 87,
   "id": "81242345",
   "metadata": {},
   "outputs": [
    {
     "data": {
      "text/plain": [
       "<AxesSubplot:>"
      ]
     },
     "execution_count": 87,
     "metadata": {},
     "output_type": "execute_result"
    },
    {
     "data": {
      "image/png": "[encoded data removed]",
      "text/plain": [
       "<Figure size 720x1440 with 1 Axes>"
      ]
     },
     "metadata": {
      "needs_background": "light"
     },
     "output_type": "display_data"
    }
   ],
   "source": [
    "# Cheking the importance of the features used in the model\n",
    "ax, fig = plt.subplots(figsize = (10, 20))\n",
    "sns.barplot(y = model_ds.feature_names_in_, x = model_ds.feature_importances_, orient = 'h', color = 'blue')"
   ]
  },
  {
   "cell_type": "code",
   "execution_count": 88,
   "id": "0b5a256b",
   "metadata": {},
   "outputs": [
    {
     "data": {
      "text/plain": [
       "<sklearn.metrics._plot.confusion_matrix.ConfusionMatrixDisplay at 0x238e7d94850>"
      ]
     },
     "execution_count": 88,
     "metadata": {},
     "output_type": "execute_result"
    },
    {
     "data": {
      "image/png": "[encoded data removed]",
      "text/plain": [
       "<Figure size 432x288 with 2 Axes>"
      ]
     },
     "metadata": {
      "needs_background": "light"
     },
     "output_type": "display_data"
    }
   ],
   "source": [
    "# Checking confusion matrix from the result on test data set\n",
    "confusion_mtrx = confusion_matrix(y_test, model_ds.predict(x_test), labels = model_ds.classes_)\n",
    "cfm_display = ConfusionMatrixDisplay(confusion_matrix = confusion_mtrx, display_labels = model_ds.classes_)\n",
    "cfm_display.plot()"
   ]
  },
  {
   "cell_type": "code",
   "execution_count": 89,
   "id": "3dd8e57b",
   "metadata": {},
   "outputs": [
    {
     "name": "stdout",
     "output_type": "stream",
     "text": [
      "              precision    recall  f1-score   support\n",
      "\n",
      "           0       1.00      0.97      0.98      4321\n",
      "           1       0.94      1.00      0.97      2161\n",
      "\n",
      "    accuracy                           0.98      6482\n",
      "   macro avg       0.97      0.99      0.98      6482\n",
      "weighted avg       0.98      0.98      0.98      6482\n",
      "\n"
     ]
    }
   ],
   "source": [
    "# Important classification model metrics\n",
    "print(classification_report(y_test, model_ds.predict(x_test), labels = model_ds.classes_))"
   ]
  },
  {
   "cell_type": "markdown",
   "id": "011a4329",
   "metadata": {},
   "source": [
    "# Conclusion"
   ]
  },
  {
   "cell_type": "markdown",
   "id": "1f6230d7",
   "metadata": {},
   "source": [
    "We have successfully created a model which can classify defaulters from non-defaulters with a good accuracy. In this process we have oversampled minor class which is default class. We have to adjust the probability of default for that reason. This is another exercise which will be taken up after this stage."
   ]
  }
 ],
 "metadata": {
  "kernelspec": {
   "display_name": "Python 3",
   "language": "python",
   "name": "python3"
  },
  "language_info": {
   "codemirror_mode": {
    "name": "ipython",
    "version": 3
   },
   "file_extension": ".py",
   "mimetype": "text/x-python",
   "name": "python",
   "nbconvert_exporter": "python",
   "pygments_lexer": "ipython3",
   "version": "3.8.8"
  }
 },
 "nbformat": 4,
 "nbformat_minor": 5
}
